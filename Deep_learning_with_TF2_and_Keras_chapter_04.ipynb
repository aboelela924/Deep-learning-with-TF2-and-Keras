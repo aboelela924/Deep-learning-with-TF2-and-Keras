{
  "nbformat": 4,
  "nbformat_minor": 0,
  "metadata": {
    "colab": {
      "name": "Deep learning with TF2 and Keras: chapter 04.ipynb",
      "provenance": [],
      "authorship_tag": "ABX9TyNUjaaE46JYZn3qHPCIeqxn",
      "include_colab_link": true
    },
    "kernelspec": {
      "name": "python3",
      "display_name": "Python 3"
    },
    "accelerator": "GPU"
  },
  "cells": [
    {
      "cell_type": "markdown",
      "metadata": {
        "id": "view-in-github",
        "colab_type": "text"
      },
      "source": [
        "<a href=\"https://colab.research.google.com/github/aboelela924/Deep-learning-with-TF2-and-Keras/blob/master/Deep_learning_with_TF2_and_Keras_chapter_04.ipynb\" target=\"_parent\"><img src=\"https://colab.research.google.com/assets/colab-badge.svg\" alt=\"Open In Colab\"/></a>"
      ]
    },
    {
      "cell_type": "code",
      "metadata": {
        "id": "BD970ZgzlMTs",
        "colab_type": "code",
        "colab": {}
      },
      "source": [
        "import tensorflow as tf \n",
        "from tensorflow.keras import datasets, optimizers, layers, models \n",
        "\n",
        "EPOCHS = 10\n",
        "VERBOSE = 1\n",
        "BATCH_SIZE = 128\n",
        "TRAIN_TO_VAL_RATIO = 0.95\n",
        "NB_CLASSES = 10\n",
        "IMG_ROWS, IMG_COLS = 28, 28"
      ],
      "execution_count": 8,
      "outputs": []
    },
    {
      "cell_type": "code",
      "metadata": {
        "id": "iGXCaMsWVvXN",
        "colab_type": "code",
        "colab": {}
      },
      "source": [
        "(X_train, y_train), (X_test, y_test) = datasets.mnist.load_data()\n",
        " \n",
        "X_train = X_train.reshape(X_train.shape[0], X_train.shape[1], X_train.shape[2], 1)\n",
        "X_test = X_test.reshape(X_test.shape[0], X_test.shape[1], X_test.shape[2], 1)\n",
        "\n",
        "X_train = X_train.astype(\"float32\")\n",
        "X_test = X_test.astype(\"float32\")\n",
        "\n",
        "X_train, X_test = X_train / 255.0, X_test / 255.0\n",
        "\n",
        "y_train = tf.keras.utils.to_categorical(y_train, NB_CLASSES)\n",
        "y_test = tf.keras.utils.to_categorical(y_test, NB_CLASSES)"
      ],
      "execution_count": 9,
      "outputs": []
    },
    {
      "cell_type": "code",
      "metadata": {
        "id": "eITqC5qDWCbt",
        "colab_type": "code",
        "colab": {}
      },
      "source": [
        "def create_model():\n",
        "    model = tf.keras.Sequential()\n",
        "    model.add(layers.Conv2D(20, (5, 5), padding=\"same\", activation=\"relu\", input_shape=(IMG_ROWS, IMG_COLS, 1)))\n",
        "    model.add(layers.MaxPool2D(pool_size=(2,2), strides=(2,2)))\n",
        "    model.add(layers.Conv2D(50, (5, 5), padding=\"same\", activation=\"relu\"))\n",
        "    model.add(layers.MaxPool2D(pool_size=(2,2), strides=(2,2)))\n",
        "    model.add(layers.Flatten())\n",
        "    model.add(layers.Dense(500, activation=\"relu\"))\n",
        "    model.add(layers.Dense(NB_CLASSES, activation=\"softmax\"))\n",
        "    return model"
      ],
      "execution_count": 10,
      "outputs": []
    },
    {
      "cell_type": "code",
      "metadata": {
        "id": "2784LoRdXAQN",
        "colab_type": "code",
        "colab": {
          "base_uri": "https://localhost:8080/",
          "height": 383
        },
        "outputId": "9a605029-0682-4a22-c5f7-740b98a69bf1"
      },
      "source": [
        "model = create_model()\n",
        "optimizer = optimizers.Adam()\n",
        "model.compile(loss=\"categorical_crossentropy\", \n",
        "              optimizer= optimizer, \n",
        "              metrics=[\"accuracy\"])\n",
        "model.summary()"
      ],
      "execution_count": 11,
      "outputs": [
        {
          "output_type": "stream",
          "text": [
            "Model: \"sequential_2\"\n",
            "_________________________________________________________________\n",
            "Layer (type)                 Output Shape              Param #   \n",
            "=================================================================\n",
            "conv2d_4 (Conv2D)            (None, 28, 28, 20)        520       \n",
            "_________________________________________________________________\n",
            "max_pooling2d_4 (MaxPooling2 (None, 14, 14, 20)        0         \n",
            "_________________________________________________________________\n",
            "conv2d_5 (Conv2D)            (None, 14, 14, 50)        25050     \n",
            "_________________________________________________________________\n",
            "max_pooling2d_5 (MaxPooling2 (None, 7, 7, 50)          0         \n",
            "_________________________________________________________________\n",
            "flatten_2 (Flatten)          (None, 2450)              0         \n",
            "_________________________________________________________________\n",
            "dense_4 (Dense)              (None, 500)               1225500   \n",
            "_________________________________________________________________\n",
            "dense_5 (Dense)              (None, 10)                5010      \n",
            "=================================================================\n",
            "Total params: 1,256,080\n",
            "Trainable params: 1,256,080\n",
            "Non-trainable params: 0\n",
            "_________________________________________________________________\n"
          ],
          "name": "stdout"
        }
      ]
    },
    {
      "cell_type": "code",
      "metadata": {
        "id": "Ym2cVtIGZW6A",
        "colab_type": "code",
        "colab": {
          "base_uri": "https://localhost:8080/",
          "height": 386
        },
        "outputId": "015cb270-0a33-46d1-948d-62e14676949f"
      },
      "source": [
        "callbacks = [\n",
        "             tf.keras.callbacks.TensorBoard(log_dir=\"/content/log/mnist\")\n",
        "]\n",
        "\n",
        "history = model.fit(X_train, y_train, batch_size=BATCH_SIZE, epochs=EPOCHS, \n",
        "                    verbose=VERBOSE, callbacks=callbacks, \n",
        "                    validation_split=TRAIN_TO_VAL_RATIO, \n",
        "                    validation_batch_size=BATCH_SIZE)"
      ],
      "execution_count": 12,
      "outputs": [
        {
          "output_type": "stream",
          "text": [
            "Epoch 1/10\n",
            " 2/24 [=>............................] - ETA: 0s - loss: 2.2815 - accuracy: 0.1641WARNING:tensorflow:Callbacks method `on_train_batch_end` is slow compared to the batch time (batch time: 0.0097s vs `on_train_batch_end` time: 0.0445s). Check your callbacks.\n",
            "24/24 [==============================] - 3s 130ms/step - loss: 1.0638 - accuracy: 0.6890 - val_loss: 0.4195 - val_accuracy: 0.8788\n",
            "Epoch 2/10\n",
            "24/24 [==============================] - 3s 124ms/step - loss: 0.3120 - accuracy: 0.9133 - val_loss: 0.2717 - val_accuracy: 0.9134\n",
            "Epoch 3/10\n",
            "24/24 [==============================] - 3s 121ms/step - loss: 0.1900 - accuracy: 0.9443 - val_loss: 0.1978 - val_accuracy: 0.9401\n",
            "Epoch 4/10\n",
            "24/24 [==============================] - 3s 124ms/step - loss: 0.1310 - accuracy: 0.9640 - val_loss: 0.1599 - val_accuracy: 0.9527\n",
            "Epoch 5/10\n",
            "24/24 [==============================] - 3s 125ms/step - loss: 0.0959 - accuracy: 0.9743 - val_loss: 0.1430 - val_accuracy: 0.9562\n",
            "Epoch 6/10\n",
            "24/24 [==============================] - 3s 124ms/step - loss: 0.0710 - accuracy: 0.9807 - val_loss: 0.1279 - val_accuracy: 0.9616\n",
            "Epoch 7/10\n",
            "24/24 [==============================] - 3s 122ms/step - loss: 0.0535 - accuracy: 0.9850 - val_loss: 0.1264 - val_accuracy: 0.9613\n",
            "Epoch 8/10\n",
            "24/24 [==============================] - 3s 123ms/step - loss: 0.0388 - accuracy: 0.9907 - val_loss: 0.1283 - val_accuracy: 0.9623\n",
            "Epoch 9/10\n",
            "24/24 [==============================] - 3s 123ms/step - loss: 0.0283 - accuracy: 0.9923 - val_loss: 0.1360 - val_accuracy: 0.9601\n",
            "Epoch 10/10\n",
            "24/24 [==============================] - 3s 122ms/step - loss: 0.0241 - accuracy: 0.9933 - val_loss: 0.1123 - val_accuracy: 0.9677\n"
          ],
          "name": "stdout"
        }
      ]
    },
    {
      "cell_type": "code",
      "metadata": {
        "id": "RUJJcJEIiHPh",
        "colab_type": "code",
        "colab": {
          "base_uri": "https://localhost:8080/",
          "height": 83
        },
        "outputId": "3fa12606-ca76-4c90-afb4-dd3ff30f1ed4"
      },
      "source": [
        "score = model.evaluate(X_test, y_test, batch_size=BATCH_SIZE, verbose=VERBOSE)\n",
        "print(\"\\nTest score: \", score[0])\n",
        "print(\"Test accuracy: \", score[1])"
      ],
      "execution_count": 13,
      "outputs": [
        {
          "output_type": "stream",
          "text": [
            "79/79 [==============================] - 1s 7ms/step - loss: 0.0916 - accuracy: 0.9718\n",
            "\n",
            "Test score:  0.09156536310911179\n",
            "Test accuracy:  0.9718000292778015\n"
          ],
          "name": "stdout"
        }
      ]
    },
    {
      "cell_type": "code",
      "metadata": {
        "id": "cAC_O14ni60H",
        "colab_type": "code",
        "colab": {}
      },
      "source": [
        "%load_ext tensorboard\n",
        "%tensorboard --logdir /content/mnist"
      ],
      "execution_count": null,
      "outputs": []
    },
    {
      "cell_type": "markdown",
      "metadata": {
        "id": "JoVmRQq2lqoQ",
        "colab_type": "text"
      },
      "source": [
        "<h1>CIFAR-10 ( Model 1 ) </h1>"
      ]
    },
    {
      "cell_type": "code",
      "metadata": {
        "id": "umTApxXAjYad",
        "colab_type": "code",
        "colab": {}
      },
      "source": [
        "import tensorflow as tf \n",
        "from tensorflow.keras import datasets, layers, optimizers, models\n",
        "\n",
        "IMG_WIDTH = 32\n",
        "IMG_HEIGHT = 32\n",
        "IMG_CHANNELS = 3\n",
        "CLASSES = 10\n",
        "\n",
        "BATCH_SIZE = 128\n",
        "VERBOSE = 1\n",
        "EPOCHS = 20\n",
        "VALIDATION_SPLIT = 0.1\n"
      ],
      "execution_count": 14,
      "outputs": []
    },
    {
      "cell_type": "code",
      "metadata": {
        "id": "y51a9vZQtdH1",
        "colab_type": "code",
        "colab": {
          "base_uri": "https://localhost:8080/",
          "height": 50
        },
        "outputId": "b9075da5-a10c-4374-aa47-7efd6ee9bf60"
      },
      "source": [
        "(X_train, y_train), (X_test, y_test) = datasets.cifar10.load_data()\n",
        "\n",
        "X_train = X_train.astype(\"float32\")\n",
        "X_test = X_test.astype(\"float32\")\n",
        "\n",
        "X_train = X_train / 255.0\n",
        "X_test = X_test / 255.0\n",
        "\n",
        "y_train =  tf.keras.utils.to_categorical(y_train, CLASSES)\n",
        "y_test = tf.keras.utils.to_categorical(y_test, CLASSES)"
      ],
      "execution_count": 16,
      "outputs": [
        {
          "output_type": "stream",
          "text": [
            "Downloading data from https://www.cs.toronto.edu/~kriz/cifar-10-python.tar.gz\n",
            "170500096/170498071 [==============================] - 11s 0us/step\n"
          ],
          "name": "stdout"
        }
      ]
    },
    {
      "cell_type": "code",
      "metadata": {
        "id": "Xa7fgl5rr2vI",
        "colab_type": "code",
        "colab": {}
      },
      "source": [
        "def create_model(classes, input_shape):\n",
        "    model = tf.keras.Sequential()\n",
        "    \n",
        "    model.add(layers.Conv2D(20, (3,3), padding=\"same\", \n",
        "                            activation=\"relu\", input_shape=input_shape))\n",
        "    model.add(layers.MaxPooling2D(pool_size=(2,2), strides=(2, 2)))\n",
        "    model.add(layers.Dropout(0.25))\n",
        "\n",
        "    model.add(layers.Flatten())\n",
        "    model.add(layers.Dense(512, activation=\"relu\"))\n",
        "    model.add(layers.Dropout(0.5))\n",
        "    model.add(layers.Dense(classes, activation=\"softmax\"))\n",
        "    return model"
      ],
      "execution_count": 15,
      "outputs": []
    },
    {
      "cell_type": "code",
      "metadata": {
        "id": "P5gY5WrJs8is",
        "colab_type": "code",
        "colab": {
          "base_uri": "https://localhost:8080/",
          "height": 383
        },
        "outputId": "f427b292-30b4-4c72-fed6-dce7400cde61"
      },
      "source": [
        "input_shape = (IMG_WIDTH, IMG_HEIGHT, IMG_CHANNELS)\n",
        "\n",
        "optimizer = optimizers.RMSprop()\n",
        "loss_function = \"categorical_crossentropy\"\n",
        "\n",
        "model = create_model(CLASSES, input_shape=input_shape)\n",
        "\n",
        "model.compile(optimizer=optimizer, \n",
        "              loss=loss_function,\n",
        "              metrics=[\"accuracy\"])\n",
        "model.summary()"
      ],
      "execution_count": 18,
      "outputs": [
        {
          "output_type": "stream",
          "text": [
            "Model: \"sequential_4\"\n",
            "_________________________________________________________________\n",
            "Layer (type)                 Output Shape              Param #   \n",
            "=================================================================\n",
            "conv2d_7 (Conv2D)            (None, 32, 32, 20)        560       \n",
            "_________________________________________________________________\n",
            "max_pooling2d_7 (MaxPooling2 (None, 16, 16, 20)        0         \n",
            "_________________________________________________________________\n",
            "dropout_2 (Dropout)          (None, 16, 16, 20)        0         \n",
            "_________________________________________________________________\n",
            "flatten_4 (Flatten)          (None, 5120)              0         \n",
            "_________________________________________________________________\n",
            "dense_8 (Dense)              (None, 512)               2621952   \n",
            "_________________________________________________________________\n",
            "dropout_3 (Dropout)          (None, 512)               0         \n",
            "_________________________________________________________________\n",
            "dense_9 (Dense)              (None, 10)                5130      \n",
            "=================================================================\n",
            "Total params: 2,627,642\n",
            "Trainable params: 2,627,642\n",
            "Non-trainable params: 0\n",
            "_________________________________________________________________\n"
          ],
          "name": "stdout"
        }
      ]
    },
    {
      "cell_type": "code",
      "metadata": {
        "id": "ycDf84rlu3gR",
        "colab_type": "code",
        "colab": {
          "base_uri": "https://localhost:8080/",
          "height": 736
        },
        "outputId": "8468b833-aec5-430f-ece0-a492db57beae"
      },
      "source": [
        "callbacks = [\n",
        "             tf.keras.callbacks.TensorBoard(log_dir=\"/content/log/cifar10_model_1\")\n",
        "]\n",
        "\n",
        "model.fit(X_train, y_train, batch_size=BATCH_SIZE, epochs=EPOCHS,\n",
        "          verbose=VERBOSE, callbacks=callbacks, validation_split=VALIDATION_SPLIT)"
      ],
      "execution_count": 19,
      "outputs": [
        {
          "output_type": "stream",
          "text": [
            "Epoch 1/20\n",
            "  2/352 [..............................] - ETA: 11s - loss: 3.7525 - accuracy: 0.0977WARNING:tensorflow:Callbacks method `on_train_batch_end` is slow compared to the batch time (batch time: 0.0097s vs `on_train_batch_end` time: 0.0526s). Check your callbacks.\n",
            "352/352 [==============================] - 5s 13ms/step - loss: 1.6655 - accuracy: 0.4082 - val_loss: 1.3808 - val_accuracy: 0.5006\n",
            "Epoch 2/20\n",
            "352/352 [==============================] - 4s 12ms/step - loss: 1.3433 - accuracy: 0.5236 - val_loss: 1.2631 - val_accuracy: 0.5474\n",
            "Epoch 3/20\n",
            "352/352 [==============================] - 4s 12ms/step - loss: 1.2273 - accuracy: 0.5655 - val_loss: 1.1306 - val_accuracy: 0.6154\n",
            "Epoch 4/20\n",
            "352/352 [==============================] - 4s 12ms/step - loss: 1.1489 - accuracy: 0.5964 - val_loss: 1.0739 - val_accuracy: 0.6310\n",
            "Epoch 5/20\n",
            "352/352 [==============================] - 4s 12ms/step - loss: 1.0764 - accuracy: 0.6217 - val_loss: 1.0917 - val_accuracy: 0.6192\n",
            "Epoch 6/20\n",
            "352/352 [==============================] - 4s 12ms/step - loss: 1.0246 - accuracy: 0.6408 - val_loss: 1.0523 - val_accuracy: 0.6366\n",
            "Epoch 7/20\n",
            "352/352 [==============================] - 4s 12ms/step - loss: 0.9779 - accuracy: 0.6574 - val_loss: 0.9889 - val_accuracy: 0.6604\n",
            "Epoch 8/20\n",
            "352/352 [==============================] - 4s 12ms/step - loss: 0.9379 - accuracy: 0.6708 - val_loss: 0.9780 - val_accuracy: 0.6706\n",
            "Epoch 9/20\n",
            "352/352 [==============================] - 4s 12ms/step - loss: 0.8949 - accuracy: 0.6871 - val_loss: 1.0093 - val_accuracy: 0.6570\n",
            "Epoch 10/20\n",
            "352/352 [==============================] - 4s 12ms/step - loss: 0.8554 - accuracy: 0.7039 - val_loss: 0.9894 - val_accuracy: 0.6636\n",
            "Epoch 11/20\n",
            "352/352 [==============================] - 4s 12ms/step - loss: 0.8347 - accuracy: 0.7081 - val_loss: 0.9556 - val_accuracy: 0.6794\n",
            "Epoch 12/20\n",
            "352/352 [==============================] - 4s 12ms/step - loss: 0.8031 - accuracy: 0.7228 - val_loss: 0.9932 - val_accuracy: 0.6714\n",
            "Epoch 13/20\n",
            "352/352 [==============================] - 4s 12ms/step - loss: 0.7782 - accuracy: 0.7298 - val_loss: 0.9750 - val_accuracy: 0.6796\n",
            "Epoch 14/20\n",
            "352/352 [==============================] - 4s 13ms/step - loss: 0.7567 - accuracy: 0.7381 - val_loss: 0.9858 - val_accuracy: 0.6730\n",
            "Epoch 15/20\n",
            "352/352 [==============================] - 4s 12ms/step - loss: 0.7259 - accuracy: 0.7465 - val_loss: 0.9886 - val_accuracy: 0.6802\n",
            "Epoch 16/20\n",
            "352/352 [==============================] - 4s 12ms/step - loss: 0.7101 - accuracy: 0.7558 - val_loss: 0.9753 - val_accuracy: 0.6782\n",
            "Epoch 17/20\n",
            "352/352 [==============================] - 4s 13ms/step - loss: 0.6853 - accuracy: 0.7620 - val_loss: 0.9651 - val_accuracy: 0.6868\n",
            "Epoch 18/20\n",
            "352/352 [==============================] - 4s 12ms/step - loss: 0.6689 - accuracy: 0.7702 - val_loss: 1.0030 - val_accuracy: 0.6782\n",
            "Epoch 19/20\n",
            "352/352 [==============================] - 4s 13ms/step - loss: 0.6490 - accuracy: 0.7743 - val_loss: 0.9739 - val_accuracy: 0.7010\n",
            "Epoch 20/20\n",
            "352/352 [==============================] - 4s 13ms/step - loss: 0.6387 - accuracy: 0.7802 - val_loss: 0.9637 - val_accuracy: 0.6872\n"
          ],
          "name": "stdout"
        },
        {
          "output_type": "execute_result",
          "data": {
            "text/plain": [
              "<tensorflow.python.keras.callbacks.History at 0x7f5ccc10def0>"
            ]
          },
          "metadata": {
            "tags": []
          },
          "execution_count": 19
        }
      ]
    },
    {
      "cell_type": "code",
      "metadata": {
        "id": "ceALnA-Mvk6E",
        "colab_type": "code",
        "colab": {
          "base_uri": "https://localhost:8080/",
          "height": 83
        },
        "outputId": "7b7aac6d-84fb-48c0-beb9-12f6f7485e80"
      },
      "source": [
        "score = model.evaluate(X_test, y_test, batch_size=BATCH_SIZE)\n",
        "print(\"\\nTest Score: \", score[0])\n",
        "print(\"Test Accuracy: \", score[1])"
      ],
      "execution_count": 21,
      "outputs": [
        {
          "output_type": "stream",
          "text": [
            "79/79 [==============================] - 0s 6ms/step - loss: 0.9741 - accuracy: 0.6786\n",
            "\n",
            "Test Score:  0.9741382598876953\n",
            "Test Accuracy:  0.678600013256073\n"
          ],
          "name": "stdout"
        }
      ]
    },
    {
      "cell_type": "code",
      "metadata": {
        "id": "fUa0CqltwNJB",
        "colab_type": "code",
        "colab": {}
      },
      "source": [
        "%tensorboard --logdir /content/log/cifar10_model_1/"
      ],
      "execution_count": null,
      "outputs": []
    },
    {
      "cell_type": "markdown",
      "metadata": {
        "id": "XMVX062swdYt",
        "colab_type": "text"
      },
      "source": [
        "<h1>CIFAR-10 ( Model 2 ) </h1>\n"
      ]
    },
    {
      "cell_type": "code",
      "metadata": {
        "id": "g7qyJOlB4JIp",
        "colab_type": "code",
        "colab": {}
      },
      "source": [
        "import tensorflow as tf \n",
        "from tensorflow.keras import datasets, optimizers, layers, models \n",
        "import numpy as np \n",
        "import matplotlib.pyplot as plt"
      ],
      "execution_count": 27,
      "outputs": []
    },
    {
      "cell_type": "code",
      "metadata": {
        "id": "eaTy4mR_1kot",
        "colab_type": "code",
        "colab": {}
      },
      "source": [
        "IMG_WIDTH = 32\n",
        "IMG_HEIGHT = 32\n",
        "IMG_CHANNELS = 3\n",
        "CLASSES = 10\n",
        "\n",
        "BATCH_SIZE = 128\n",
        "VERBOSE = 1\n",
        "EPOCHS = 50\n",
        "VALIDATION_SPLIT = 0.1"
      ],
      "execution_count": 23,
      "outputs": []
    },
    {
      "cell_type": "code",
      "metadata": {
        "id": "_ryVshZI1nrQ",
        "colab_type": "code",
        "colab": {}
      },
      "source": [
        "def load_data():\n",
        "    (X_train, y_train), (X_test, y_test) = datasets.cifar10.load_data()\n",
        "\n",
        "    X_train = X_train.astype(\"float32\")\n",
        "    X_test = X_test.astype(\"float32\")\n",
        "\n",
        "    mean = np.mean(X_train, axis=(0,1,2,3))\n",
        "    std = np.std(X_train, axis=(0,1,2,3))\n",
        "\n",
        "    X_train = (X_train - mean) / (std+1e-7)\n",
        "    X_test = (X_test - mean) / (std+1e-7)\n",
        "\n",
        "    y_train = tf.keras.utils.to_categorical(y_train, 10)\n",
        "    y_test = tf.keras.utils.to_categorical(y_test, 10)\n",
        "\n",
        "    return (X_train, y_train), (X_test, y_test)"
      ],
      "execution_count": 24,
      "outputs": []
    },
    {
      "cell_type": "code",
      "metadata": {
        "id": "jHtVOggNwbKe",
        "colab_type": "code",
        "colab": {}
      },
      "source": [
        "def create_model2(classes, input_shape):\n",
        "    model = tf.keras.Sequential()\n",
        "    \n",
        "    model.add(layers.Conv2D(32, (3, 3), padding=\"same\", activation=\"relu\", \n",
        "                          input_shape=input_shape))\n",
        "    model.add(layers.BatchNormalization())\n",
        "    model.add(layers.Conv2D(32, (3,3), padding=\"same\", activation=\"relu\"))\n",
        "    model.add(layers.BatchNormalization())\n",
        "    model.add(layers.MaxPooling2D(pool_size=(2, 2)))\n",
        "    model.add(layers.Dropout(0.2))\n",
        "\n",
        "    model.add(layers.Conv2D(64, (3, 3), padding=\"same\", activation=\"relu\"))\n",
        "    model.add(layers.BatchNormalization())\n",
        "    model.add(layers.Conv2D(64, (3, 3), padding=\"same\", activation=\"relu\"))\n",
        "    model.add(layers.BatchNormalization())\n",
        "    model.add(layers.MaxPooling2D(pool_size=(2, 2)))\n",
        "    model.add(layers.Dropout(0.3))\n",
        "\n",
        "    model.add(layers.Conv2D(128, (3, 3), padding=\"same\", activation=\"relu\"))\n",
        "    model.add(layers.BatchNormalization())\n",
        "    model.add(layers.Conv2D(128, (3, 3), padding=\"same\", activation=\"relu\"))\n",
        "    model.add(layers.BatchNormalization())\n",
        "    model.add(layers.MaxPooling2D(pool_size=(2, 2)))\n",
        "    model.add(layers.Dropout(0.4))\n",
        "\n",
        "    model.add(layers.Flatten())\n",
        "    model.add(layers.Dense(classes, activation=\"softmax\"))\n",
        "\n",
        "    return model"
      ],
      "execution_count": 25,
      "outputs": []
    },
    {
      "cell_type": "code",
      "metadata": {
        "id": "t18urN2uwbJN",
        "colab_type": "code",
        "colab": {
          "base_uri": "https://localhost:8080/",
          "height": 816
        },
        "outputId": "eed5546e-63ca-422c-a978-314c0bad04e1"
      },
      "source": [
        "(X_train, y_train), (X_test, y_test) = load_data()\n",
        "\n",
        "model = create_model2(CLASSES, (IMG_WIDTH, IMG_HEIGHT, IMG_CHANNELS))\n",
        "optimizer = optimizers.RMSprop()\n",
        "loss_function = \"categorical_crossentropy\"\n",
        "model.compile(optimizer=optimizer, \n",
        "              loss=loss_function, \n",
        "              metrics=[\"accuracy\"])\n",
        "\n",
        "model.summary()"
      ],
      "execution_count": 28,
      "outputs": [
        {
          "output_type": "stream",
          "text": [
            "Model: \"sequential_5\"\n",
            "_________________________________________________________________\n",
            "Layer (type)                 Output Shape              Param #   \n",
            "=================================================================\n",
            "conv2d_8 (Conv2D)            (None, 32, 32, 32)        896       \n",
            "_________________________________________________________________\n",
            "batch_normalization (BatchNo (None, 32, 32, 32)        128       \n",
            "_________________________________________________________________\n",
            "conv2d_9 (Conv2D)            (None, 32, 32, 32)        9248      \n",
            "_________________________________________________________________\n",
            "batch_normalization_1 (Batch (None, 32, 32, 32)        128       \n",
            "_________________________________________________________________\n",
            "max_pooling2d_8 (MaxPooling2 (None, 16, 16, 32)        0         \n",
            "_________________________________________________________________\n",
            "dropout_4 (Dropout)          (None, 16, 16, 32)        0         \n",
            "_________________________________________________________________\n",
            "conv2d_10 (Conv2D)           (None, 16, 16, 64)        18496     \n",
            "_________________________________________________________________\n",
            "batch_normalization_2 (Batch (None, 16, 16, 64)        256       \n",
            "_________________________________________________________________\n",
            "conv2d_11 (Conv2D)           (None, 16, 16, 64)        36928     \n",
            "_________________________________________________________________\n",
            "batch_normalization_3 (Batch (None, 16, 16, 64)        256       \n",
            "_________________________________________________________________\n",
            "max_pooling2d_9 (MaxPooling2 (None, 8, 8, 64)          0         \n",
            "_________________________________________________________________\n",
            "dropout_5 (Dropout)          (None, 8, 8, 64)          0         \n",
            "_________________________________________________________________\n",
            "conv2d_12 (Conv2D)           (None, 8, 8, 128)         73856     \n",
            "_________________________________________________________________\n",
            "batch_normalization_4 (Batch (None, 8, 8, 128)         512       \n",
            "_________________________________________________________________\n",
            "conv2d_13 (Conv2D)           (None, 8, 8, 128)         147584    \n",
            "_________________________________________________________________\n",
            "batch_normalization_5 (Batch (None, 8, 8, 128)         512       \n",
            "_________________________________________________________________\n",
            "max_pooling2d_10 (MaxPooling (None, 4, 4, 128)         0         \n",
            "_________________________________________________________________\n",
            "dropout_6 (Dropout)          (None, 4, 4, 128)         0         \n",
            "_________________________________________________________________\n",
            "flatten_5 (Flatten)          (None, 2048)              0         \n",
            "_________________________________________________________________\n",
            "dense_10 (Dense)             (None, 10)                20490     \n",
            "=================================================================\n",
            "Total params: 309,290\n",
            "Trainable params: 308,394\n",
            "Non-trainable params: 896\n",
            "_________________________________________________________________\n"
          ],
          "name": "stdout"
        }
      ]
    },
    {
      "cell_type": "code",
      "metadata": {
        "id": "zafTaOLk41-V",
        "colab_type": "code",
        "colab": {
          "base_uri": "https://localhost:8080/",
          "height": 50
        },
        "outputId": "cc2750d1-b07c-4dd3-955a-bce4d3cd750f"
      },
      "source": [
        "print(X_train.shape)\n",
        "print(y_train.shape)"
      ],
      "execution_count": 30,
      "outputs": [
        {
          "output_type": "stream",
          "text": [
            "(50000, 32, 32, 3)\n",
            "(50000, 10)\n"
          ],
          "name": "stdout"
        }
      ]
    },
    {
      "cell_type": "code",
      "metadata": {
        "id": "KZ-ZvsKt4CWg",
        "colab_type": "code",
        "colab": {
          "base_uri": "https://localhost:8080/",
          "height": 1000
        },
        "outputId": "5a457b1e-0182-408e-c972-272d3de7185e"
      },
      "source": [
        "callbacks = [\n",
        "             tf.keras.callbacks.TensorBoard(log_dir=\"/content/log_cifar_model_2\")\n",
        "]\n",
        "model.fit(X_train, y_train, batch_size=BATCH_SIZE, epochs=EPOCHS, callbacks=callbacks, \n",
        "          validation_split=VALIDATION_SPLIT)"
      ],
      "execution_count": 31,
      "outputs": [
        {
          "output_type": "stream",
          "text": [
            "Epoch 1/50\n",
            "  2/352 [..............................] - ETA: 34s - loss: 5.5513 - accuracy: 0.1289WARNING:tensorflow:Callbacks method `on_train_batch_end` is slow compared to the batch time (batch time: 0.0398s vs `on_train_batch_end` time: 0.1554s). Check your callbacks.\n",
            "352/352 [==============================] - 18s 51ms/step - loss: 1.8871 - accuracy: 0.4440 - val_loss: 1.6372 - val_accuracy: 0.4414\n",
            "Epoch 2/50\n",
            "352/352 [==============================] - 17s 49ms/step - loss: 1.1701 - accuracy: 0.6212 - val_loss: 1.0436 - val_accuracy: 0.6524\n",
            "Epoch 3/50\n",
            "352/352 [==============================] - 17s 49ms/step - loss: 0.9650 - accuracy: 0.6914 - val_loss: 1.4600 - val_accuracy: 0.6830\n",
            "Epoch 4/50\n",
            "352/352 [==============================] - 17s 48ms/step - loss: 0.8251 - accuracy: 0.7251 - val_loss: 0.7826 - val_accuracy: 0.7354\n",
            "Epoch 5/50\n",
            "352/352 [==============================] - 17s 48ms/step - loss: 0.7280 - accuracy: 0.7532 - val_loss: 0.6748 - val_accuracy: 0.7696\n",
            "Epoch 6/50\n",
            "352/352 [==============================] - 17s 49ms/step - loss: 0.6659 - accuracy: 0.7782 - val_loss: 0.6122 - val_accuracy: 0.7870\n",
            "Epoch 7/50\n",
            "352/352 [==============================] - 17s 49ms/step - loss: 0.6167 - accuracy: 0.7940 - val_loss: 0.6284 - val_accuracy: 0.7878\n",
            "Epoch 8/50\n",
            "352/352 [==============================] - 17s 49ms/step - loss: 0.5687 - accuracy: 0.8069 - val_loss: 0.6472 - val_accuracy: 0.7818\n",
            "Epoch 9/50\n",
            "352/352 [==============================] - 17s 49ms/step - loss: 0.5373 - accuracy: 0.8176 - val_loss: 0.5662 - val_accuracy: 0.8080\n",
            "Epoch 10/50\n",
            "352/352 [==============================] - 17s 49ms/step - loss: 0.5006 - accuracy: 0.8304 - val_loss: 0.5685 - val_accuracy: 0.8106\n",
            "Epoch 11/50\n",
            "352/352 [==============================] - 17s 49ms/step - loss: 0.4782 - accuracy: 0.8370 - val_loss: 0.5378 - val_accuracy: 0.8164\n",
            "Epoch 12/50\n",
            "352/352 [==============================] - 17s 49ms/step - loss: 0.4513 - accuracy: 0.8426 - val_loss: 0.5828 - val_accuracy: 0.8100\n",
            "Epoch 13/50\n",
            "352/352 [==============================] - 17s 49ms/step - loss: 0.4325 - accuracy: 0.8509 - val_loss: 0.5355 - val_accuracy: 0.8170\n",
            "Epoch 14/50\n",
            "352/352 [==============================] - 17s 49ms/step - loss: 0.4113 - accuracy: 0.8572 - val_loss: 0.4951 - val_accuracy: 0.8342\n",
            "Epoch 15/50\n",
            "352/352 [==============================] - 17s 49ms/step - loss: 0.3993 - accuracy: 0.8612 - val_loss: 0.5557 - val_accuracy: 0.8262\n",
            "Epoch 16/50\n",
            "352/352 [==============================] - 17s 49ms/step - loss: 0.3773 - accuracy: 0.8684 - val_loss: 0.5817 - val_accuracy: 0.8172\n",
            "Epoch 17/50\n",
            "352/352 [==============================] - 17s 49ms/step - loss: 0.3642 - accuracy: 0.8738 - val_loss: 0.5569 - val_accuracy: 0.8274\n",
            "Epoch 18/50\n",
            "352/352 [==============================] - 17s 49ms/step - loss: 0.3509 - accuracy: 0.8785 - val_loss: 0.5153 - val_accuracy: 0.8318\n",
            "Epoch 19/50\n",
            "352/352 [==============================] - 17s 49ms/step - loss: 0.3369 - accuracy: 0.8831 - val_loss: 0.5464 - val_accuracy: 0.8360\n",
            "Epoch 20/50\n",
            "352/352 [==============================] - 17s 49ms/step - loss: 0.3209 - accuracy: 0.8880 - val_loss: 0.4845 - val_accuracy: 0.8458\n",
            "Epoch 21/50\n",
            "352/352 [==============================] - 17s 49ms/step - loss: 0.3102 - accuracy: 0.8930 - val_loss: 0.4844 - val_accuracy: 0.8438\n",
            "Epoch 22/50\n",
            "352/352 [==============================] - 17s 49ms/step - loss: 0.3038 - accuracy: 0.8928 - val_loss: 0.5084 - val_accuracy: 0.8390\n",
            "Epoch 23/50\n",
            "352/352 [==============================] - 17s 49ms/step - loss: 0.2946 - accuracy: 0.8960 - val_loss: 0.5132 - val_accuracy: 0.8424\n",
            "Epoch 24/50\n",
            "352/352 [==============================] - 17s 49ms/step - loss: 0.2825 - accuracy: 0.9000 - val_loss: 0.5132 - val_accuracy: 0.8426\n",
            "Epoch 25/50\n",
            "352/352 [==============================] - 17s 49ms/step - loss: 0.2773 - accuracy: 0.9015 - val_loss: 0.4801 - val_accuracy: 0.8542\n",
            "Epoch 26/50\n",
            "352/352 [==============================] - 17s 49ms/step - loss: 0.2634 - accuracy: 0.9056 - val_loss: 0.4924 - val_accuracy: 0.8518\n",
            "Epoch 27/50\n",
            "352/352 [==============================] - 17s 49ms/step - loss: 0.2552 - accuracy: 0.9102 - val_loss: 0.5116 - val_accuracy: 0.8498\n",
            "Epoch 28/50\n",
            "352/352 [==============================] - 17s 49ms/step - loss: 0.2555 - accuracy: 0.9097 - val_loss: 0.5734 - val_accuracy: 0.8240\n",
            "Epoch 29/50\n",
            "352/352 [==============================] - 17s 49ms/step - loss: 0.2476 - accuracy: 0.9124 - val_loss: 0.4952 - val_accuracy: 0.8542\n",
            "Epoch 30/50\n",
            "352/352 [==============================] - 17s 49ms/step - loss: 0.2384 - accuracy: 0.9157 - val_loss: 0.5251 - val_accuracy: 0.8444\n",
            "Epoch 31/50\n",
            "352/352 [==============================] - 17s 49ms/step - loss: 0.2314 - accuracy: 0.9164 - val_loss: 0.5101 - val_accuracy: 0.8570\n",
            "Epoch 32/50\n",
            "352/352 [==============================] - 17s 49ms/step - loss: 0.2332 - accuracy: 0.9183 - val_loss: 0.5312 - val_accuracy: 0.8498\n",
            "Epoch 33/50\n",
            "352/352 [==============================] - 17s 49ms/step - loss: 0.2267 - accuracy: 0.9198 - val_loss: 0.5157 - val_accuracy: 0.8522\n",
            "Epoch 34/50\n",
            "352/352 [==============================] - 17s 49ms/step - loss: 0.2220 - accuracy: 0.9205 - val_loss: 0.5159 - val_accuracy: 0.8538\n",
            "Epoch 35/50\n",
            "352/352 [==============================] - 17s 49ms/step - loss: 0.2128 - accuracy: 0.9244 - val_loss: 0.5142 - val_accuracy: 0.8510\n",
            "Epoch 36/50\n",
            "352/352 [==============================] - 17s 49ms/step - loss: 0.2051 - accuracy: 0.9273 - val_loss: 0.4989 - val_accuracy: 0.8544\n",
            "Epoch 37/50\n",
            "352/352 [==============================] - 17s 49ms/step - loss: 0.2000 - accuracy: 0.9280 - val_loss: 0.5117 - val_accuracy: 0.8572\n",
            "Epoch 38/50\n",
            "352/352 [==============================] - 17s 49ms/step - loss: 0.1950 - accuracy: 0.9303 - val_loss: 0.5341 - val_accuracy: 0.8530\n",
            "Epoch 39/50\n",
            "352/352 [==============================] - 17s 49ms/step - loss: 0.1962 - accuracy: 0.9313 - val_loss: 0.4989 - val_accuracy: 0.8532\n",
            "Epoch 40/50\n",
            "352/352 [==============================] - 17s 49ms/step - loss: 0.1902 - accuracy: 0.9311 - val_loss: 0.5242 - val_accuracy: 0.8530\n",
            "Epoch 41/50\n",
            "352/352 [==============================] - 17s 49ms/step - loss: 0.1898 - accuracy: 0.9332 - val_loss: 0.5099 - val_accuracy: 0.8540\n",
            "Epoch 42/50\n",
            "352/352 [==============================] - 17s 49ms/step - loss: 0.1774 - accuracy: 0.9357 - val_loss: 0.5207 - val_accuracy: 0.8534\n",
            "Epoch 43/50\n",
            "352/352 [==============================] - 17s 49ms/step - loss: 0.1803 - accuracy: 0.9355 - val_loss: 0.5458 - val_accuracy: 0.8562\n",
            "Epoch 44/50\n",
            "352/352 [==============================] - 17s 49ms/step - loss: 0.1762 - accuracy: 0.9371 - val_loss: 0.5171 - val_accuracy: 0.8574\n",
            "Epoch 45/50\n",
            "352/352 [==============================] - 17s 49ms/step - loss: 0.1735 - accuracy: 0.9366 - val_loss: 0.5219 - val_accuracy: 0.8564\n",
            "Epoch 46/50\n",
            "352/352 [==============================] - 17s 49ms/step - loss: 0.1669 - accuracy: 0.9393 - val_loss: 0.5151 - val_accuracy: 0.8550\n",
            "Epoch 47/50\n",
            "352/352 [==============================] - 17s 49ms/step - loss: 0.1719 - accuracy: 0.9378 - val_loss: 0.5158 - val_accuracy: 0.8602\n",
            "Epoch 48/50\n",
            "352/352 [==============================] - 17s 49ms/step - loss: 0.1701 - accuracy: 0.9398 - val_loss: 0.5358 - val_accuracy: 0.8558\n",
            "Epoch 49/50\n",
            "352/352 [==============================] - 17s 49ms/step - loss: 0.1600 - accuracy: 0.9432 - val_loss: 0.5031 - val_accuracy: 0.8580\n",
            "Epoch 50/50\n",
            "352/352 [==============================] - 17s 49ms/step - loss: 0.1571 - accuracy: 0.9423 - val_loss: 0.5497 - val_accuracy: 0.8508\n"
          ],
          "name": "stdout"
        },
        {
          "output_type": "execute_result",
          "data": {
            "text/plain": [
              "<tensorflow.python.keras.callbacks.History at 0x7f5cc9664518>"
            ]
          },
          "metadata": {
            "tags": []
          },
          "execution_count": 31
        }
      ]
    },
    {
      "cell_type": "code",
      "metadata": {
        "id": "3UsK9MTb4wVD",
        "colab_type": "code",
        "colab": {
          "base_uri": "https://localhost:8080/",
          "height": 83
        },
        "outputId": "d231ff75-3620-4249-a82e-a67b3511ec14"
      },
      "source": [
        "score = model.evaluate(X_test, y_test, batch_size=BATCH_SIZE)\n",
        "print(\"\\nTest Score: \", score[0])\n",
        "print(\"Test Accuracy: \", score[1])"
      ],
      "execution_count": 32,
      "outputs": [
        {
          "output_type": "stream",
          "text": [
            "79/79 [==============================] - 1s 14ms/step - loss: 0.5955 - accuracy: 0.8440\n",
            "\n",
            "Test Score:  0.5954734086990356\n",
            "Test Accuracy:  0.843999981880188\n"
          ],
          "name": "stdout"
        }
      ]
    },
    {
      "cell_type": "markdown",
      "metadata": {
        "id": "McRO-9JM8h16",
        "colab_type": "text"
      },
      "source": [
        "<h1> CIFAR-10 ( Model 2 with Data Augmentation ) </h1>"
      ]
    },
    {
      "cell_type": "code",
      "metadata": {
        "id": "Y_iORuy28eGH",
        "colab_type": "code",
        "colab": {}
      },
      "source": [
        "from tensorflow.keras.preprocessing.image import ImageDataGenerator\n",
        "image_augmenter = ImageDataGenerator(rotation_range=30,\n",
        "    width_shift_range=0.2, \n",
        "    height_shift_range=0.2, \n",
        "    horizontal_flip=True\n",
        ")"
      ],
      "execution_count": 38,
      "outputs": []
    },
    {
      "cell_type": "code",
      "metadata": {
        "id": "p02eweW89HCD",
        "colab_type": "code",
        "colab": {}
      },
      "source": [
        "image_augmenter.fit(X_train)"
      ],
      "execution_count": 40,
      "outputs": []
    },
    {
      "cell_type": "code",
      "metadata": {
        "id": "L6gACpJO9L1R",
        "colab_type": "code",
        "colab": {
          "base_uri": "https://localhost:8080/",
          "height": 1000
        },
        "outputId": "e77df4fa-9d3f-4d0b-b7af-4f5d318c8742"
      },
      "source": [
        "model.fit_generator(image_augmenter.flow(X_train, y_train, batch_size=BATCH_SIZE),\n",
        "                    epochs=EPOCHS, \n",
        "                    validation_data=(X_test, y_test))"
      ],
      "execution_count": 41,
      "outputs": [
        {
          "output_type": "stream",
          "text": [
            "WARNING:tensorflow:From <ipython-input-41-e961ae37c5c7>:3: Model.fit_generator (from tensorflow.python.keras.engine.training) is deprecated and will be removed in a future version.\n",
            "Instructions for updating:\n",
            "Please use Model.fit, which supports generators.\n",
            "Epoch 1/50\n",
            "391/391 [==============================] - 40s 103ms/step - loss: 1.0513 - accuracy: 0.6786 - val_loss: 0.6477 - val_accuracy: 0.8076\n",
            "Epoch 2/50\n",
            "391/391 [==============================] - 39s 101ms/step - loss: 0.8397 - accuracy: 0.7128 - val_loss: 0.8868 - val_accuracy: 0.7844\n",
            "Epoch 3/50\n",
            "391/391 [==============================] - 39s 100ms/step - loss: 0.7871 - accuracy: 0.7288 - val_loss: 0.5347 - val_accuracy: 0.8234\n",
            "Epoch 4/50\n",
            "391/391 [==============================] - 39s 99ms/step - loss: 0.7485 - accuracy: 0.7416 - val_loss: 0.5611 - val_accuracy: 0.8149\n",
            "Epoch 5/50\n",
            "391/391 [==============================] - 41s 105ms/step - loss: 0.7307 - accuracy: 0.7477 - val_loss: 0.5859 - val_accuracy: 0.8106\n",
            "Epoch 6/50\n",
            "391/391 [==============================] - 40s 101ms/step - loss: 0.7106 - accuracy: 0.7549 - val_loss: 0.5738 - val_accuracy: 0.8117\n",
            "Epoch 7/50\n",
            "391/391 [==============================] - 40s 102ms/step - loss: 0.6942 - accuracy: 0.7601 - val_loss: 0.5702 - val_accuracy: 0.8193\n",
            "Epoch 8/50\n",
            "391/391 [==============================] - 39s 99ms/step - loss: 0.6890 - accuracy: 0.7602 - val_loss: 0.5274 - val_accuracy: 0.8263\n",
            "Epoch 9/50\n",
            "391/391 [==============================] - 39s 99ms/step - loss: 0.6699 - accuracy: 0.7679 - val_loss: 0.5358 - val_accuracy: 0.8268\n",
            "Epoch 10/50\n",
            "391/391 [==============================] - 39s 99ms/step - loss: 0.6636 - accuracy: 0.7702 - val_loss: 0.7117 - val_accuracy: 0.7802\n",
            "Epoch 11/50\n",
            "391/391 [==============================] - 39s 100ms/step - loss: 0.6555 - accuracy: 0.7718 - val_loss: 0.5497 - val_accuracy: 0.8218\n",
            "Epoch 12/50\n",
            "391/391 [==============================] - 39s 99ms/step - loss: 0.6462 - accuracy: 0.7769 - val_loss: 0.5562 - val_accuracy: 0.8176\n",
            "Epoch 13/50\n",
            "391/391 [==============================] - 39s 99ms/step - loss: 0.6405 - accuracy: 0.7787 - val_loss: 0.5514 - val_accuracy: 0.8229\n",
            "Epoch 14/50\n",
            "391/391 [==============================] - 39s 99ms/step - loss: 0.6316 - accuracy: 0.7811 - val_loss: 0.5433 - val_accuracy: 0.8243\n",
            "Epoch 15/50\n",
            "391/391 [==============================] - 39s 99ms/step - loss: 0.6308 - accuracy: 0.7832 - val_loss: 0.5111 - val_accuracy: 0.8312\n",
            "Epoch 16/50\n",
            "391/391 [==============================] - 39s 100ms/step - loss: 0.6170 - accuracy: 0.7852 - val_loss: 0.5200 - val_accuracy: 0.8332\n",
            "Epoch 17/50\n",
            "391/391 [==============================] - 39s 99ms/step - loss: 0.6120 - accuracy: 0.7869 - val_loss: 0.5694 - val_accuracy: 0.8203\n",
            "Epoch 18/50\n",
            "391/391 [==============================] - 39s 99ms/step - loss: 0.5987 - accuracy: 0.7934 - val_loss: 0.4952 - val_accuracy: 0.8399\n",
            "Epoch 19/50\n",
            "391/391 [==============================] - 38s 98ms/step - loss: 0.5988 - accuracy: 0.7926 - val_loss: 0.5223 - val_accuracy: 0.8291\n",
            "Epoch 20/50\n",
            "391/391 [==============================] - 38s 97ms/step - loss: 0.5983 - accuracy: 0.7925 - val_loss: 0.4974 - val_accuracy: 0.8391\n",
            "Epoch 21/50\n",
            "391/391 [==============================] - 38s 97ms/step - loss: 0.5902 - accuracy: 0.7965 - val_loss: 0.5261 - val_accuracy: 0.8293\n",
            "Epoch 22/50\n",
            "391/391 [==============================] - 38s 97ms/step - loss: 0.5865 - accuracy: 0.7968 - val_loss: 0.5274 - val_accuracy: 0.8327\n",
            "Epoch 23/50\n",
            "391/391 [==============================] - 38s 98ms/step - loss: 0.5841 - accuracy: 0.7982 - val_loss: 0.5075 - val_accuracy: 0.8362\n",
            "Epoch 24/50\n",
            "391/391 [==============================] - 38s 97ms/step - loss: 0.5743 - accuracy: 0.7994 - val_loss: 0.6025 - val_accuracy: 0.8144\n",
            "Epoch 25/50\n",
            "391/391 [==============================] - 38s 97ms/step - loss: 0.5692 - accuracy: 0.8008 - val_loss: 0.4943 - val_accuracy: 0.8398\n",
            "Epoch 26/50\n",
            "391/391 [==============================] - 38s 98ms/step - loss: 0.5705 - accuracy: 0.8021 - val_loss: 0.4973 - val_accuracy: 0.8386\n",
            "Epoch 27/50\n",
            "391/391 [==============================] - 38s 97ms/step - loss: 0.5730 - accuracy: 0.8029 - val_loss: 0.4745 - val_accuracy: 0.8473\n",
            "Epoch 28/50\n",
            "391/391 [==============================] - 38s 97ms/step - loss: 0.5622 - accuracy: 0.8046 - val_loss: 0.4946 - val_accuracy: 0.8373\n",
            "Epoch 29/50\n",
            "391/391 [==============================] - 38s 98ms/step - loss: 0.5512 - accuracy: 0.8101 - val_loss: 0.5344 - val_accuracy: 0.8291\n",
            "Epoch 30/50\n",
            "391/391 [==============================] - 38s 98ms/step - loss: 0.5560 - accuracy: 0.8083 - val_loss: 0.5526 - val_accuracy: 0.8240\n",
            "Epoch 31/50\n",
            "391/391 [==============================] - 38s 98ms/step - loss: 0.5515 - accuracy: 0.8090 - val_loss: 0.4586 - val_accuracy: 0.8533\n",
            "Epoch 32/50\n",
            "391/391 [==============================] - 38s 97ms/step - loss: 0.5522 - accuracy: 0.8070 - val_loss: 0.5001 - val_accuracy: 0.8359\n",
            "Epoch 33/50\n",
            "391/391 [==============================] - 38s 97ms/step - loss: 0.5454 - accuracy: 0.8111 - val_loss: 0.4872 - val_accuracy: 0.8416\n",
            "Epoch 34/50\n",
            "391/391 [==============================] - 38s 97ms/step - loss: 0.5411 - accuracy: 0.8135 - val_loss: 0.5076 - val_accuracy: 0.8410\n",
            "Epoch 35/50\n",
            "391/391 [==============================] - 38s 98ms/step - loss: 0.5422 - accuracy: 0.8138 - val_loss: 0.4886 - val_accuracy: 0.8459\n",
            "Epoch 36/50\n",
            "391/391 [==============================] - 38s 97ms/step - loss: 0.5387 - accuracy: 0.8134 - val_loss: 0.4612 - val_accuracy: 0.8479\n",
            "Epoch 37/50\n",
            "391/391 [==============================] - 38s 97ms/step - loss: 0.5382 - accuracy: 0.8134 - val_loss: 0.4765 - val_accuracy: 0.8476\n",
            "Epoch 38/50\n",
            "391/391 [==============================] - 38s 97ms/step - loss: 0.5316 - accuracy: 0.8161 - val_loss: 0.4951 - val_accuracy: 0.8436\n",
            "Epoch 39/50\n",
            "391/391 [==============================] - 38s 97ms/step - loss: 0.5283 - accuracy: 0.8150 - val_loss: 0.4893 - val_accuracy: 0.8467\n",
            "Epoch 40/50\n",
            "391/391 [==============================] - 38s 98ms/step - loss: 0.5291 - accuracy: 0.8186 - val_loss: 0.4553 - val_accuracy: 0.8516\n",
            "Epoch 41/50\n",
            "391/391 [==============================] - 38s 97ms/step - loss: 0.5314 - accuracy: 0.8173 - val_loss: 0.4794 - val_accuracy: 0.8470\n",
            "Epoch 42/50\n",
            "391/391 [==============================] - 38s 97ms/step - loss: 0.5260 - accuracy: 0.8179 - val_loss: 0.5387 - val_accuracy: 0.8357\n",
            "Epoch 43/50\n",
            "391/391 [==============================] - 38s 96ms/step - loss: 0.5227 - accuracy: 0.8191 - val_loss: 0.4310 - val_accuracy: 0.8586\n",
            "Epoch 44/50\n",
            "391/391 [==============================] - 38s 97ms/step - loss: 0.5255 - accuracy: 0.8170 - val_loss: 0.4742 - val_accuracy: 0.8498\n",
            "Epoch 45/50\n",
            "391/391 [==============================] - 38s 98ms/step - loss: 0.5199 - accuracy: 0.8197 - val_loss: 0.4605 - val_accuracy: 0.8537\n",
            "Epoch 46/50\n",
            "391/391 [==============================] - 38s 97ms/step - loss: 0.5200 - accuracy: 0.8211 - val_loss: 0.4641 - val_accuracy: 0.8509\n",
            "Epoch 47/50\n",
            "391/391 [==============================] - 38s 96ms/step - loss: 0.5100 - accuracy: 0.8253 - val_loss: 0.5025 - val_accuracy: 0.8431\n",
            "Epoch 48/50\n",
            "391/391 [==============================] - 38s 97ms/step - loss: 0.5128 - accuracy: 0.8217 - val_loss: 0.4749 - val_accuracy: 0.8474\n",
            "Epoch 49/50\n",
            "391/391 [==============================] - 38s 98ms/step - loss: 0.5152 - accuracy: 0.8225 - val_loss: 0.4730 - val_accuracy: 0.8493\n",
            "Epoch 50/50\n",
            "391/391 [==============================] - 38s 97ms/step - loss: 0.5055 - accuracy: 0.8254 - val_loss: 0.4449 - val_accuracy: 0.8566\n"
          ],
          "name": "stdout"
        },
        {
          "output_type": "execute_result",
          "data": {
            "text/plain": [
              "<tensorflow.python.keras.callbacks.History at 0x7f5ccad2ffd0>"
            ]
          },
          "metadata": {
            "tags": []
          },
          "execution_count": 41
        }
      ]
    },
    {
      "cell_type": "code",
      "metadata": {
        "id": "71j-44a__57l",
        "colab_type": "code",
        "colab": {
          "base_uri": "https://localhost:8080/",
          "height": 33
        },
        "outputId": "72f946d5-a620-4c08-a0ec-9da2bcc30230"
      },
      "source": [
        "from google.colab import drive\n",
        "drive.mount('/content/gdrive')"
      ],
      "execution_count": 42,
      "outputs": [
        {
          "output_type": "stream",
          "text": [
            "Mounted at /content/gdrive\n"
          ],
          "name": "stdout"
        }
      ]
    },
    {
      "cell_type": "code",
      "metadata": {
        "id": "s6YMlb6wHUFM",
        "colab_type": "code",
        "colab": {}
      },
      "source": [
        "model_save_name = 'cirfar10_CNN_model_6Conv.h5'\n",
        "path = f\"/content/gdrive/My Drive/saved_models/{model_save_name}\"\n",
        "json_model_save_name = 'cirfar10_CNN_model_6Conv.json' \n",
        "json_path = f\"/content/gdrive/My Drive/saved_models/{json_model_save_name}\""
      ],
      "execution_count": 44,
      "outputs": []
    },
    {
      "cell_type": "code",
      "metadata": {
        "id": "H9cdbuXxH31O",
        "colab_type": "code",
        "colab": {}
      },
      "source": [
        "model_json = model.to_json()\n",
        "with open(json_path, \"w\") as json_file:\n",
        "    json_file.write(model_json)\n",
        "\n",
        "model.save_weights(path)"
      ],
      "execution_count": 45,
      "outputs": []
    },
    {
      "cell_type": "code",
      "metadata": {
        "id": "3SnmhlTzIngD",
        "colab_type": "code",
        "colab": {
          "base_uri": "https://localhost:8080/",
          "height": 100
        },
        "outputId": "0df7ea1c-0833-47a4-87dc-3ffddb0c181f"
      },
      "source": [
        "score = model.evaluate(X_test, y_test, batch_size=BATCH_SIZE)\n",
        "print(\"\\nTest Score: \", score[0] )\n",
        "print(\"\\nTest Accuracy: \", score[1] )"
      ],
      "execution_count": 46,
      "outputs": [
        {
          "output_type": "stream",
          "text": [
            "79/79 [==============================] - 1s 13ms/step - loss: 0.4449 - accuracy: 0.8566\n",
            "\n",
            "Test Score:  0.44489961862564087\n",
            "\n",
            "Test Accuracy:  0.8565999865531921\n"
          ],
          "name": "stdout"
        }
      ]
    },
    {
      "cell_type": "code",
      "metadata": {
        "id": "MAS_aAj8JJGH",
        "colab_type": "code",
        "colab": {}
      },
      "source": [
        "import scipy.misc\n",
        "from tensorflow.keras.models import model_from_json\n",
        "from tensorflow.keras.optimizers import SGD\n",
        "from skimage.transform import resize\n",
        "import cv2\n",
        "\n",
        "def predict(image_path):\n",
        "    classes = [\"airplane\",\"automobile\",\"bird\",\"cat\",\"deer\",\"dog\",\"frog\",\"horse\",\"ship\",\"truck\"]\n",
        "    \n",
        "    model_save_name = 'cirfar10_CNN_model_6Conv.h5'\n",
        "    path = f\"/content/gdrive/My Drive/saved_models/{model_save_name}\"\n",
        "    json_model_save_name = 'cirfar10_CNN_model_6Conv.json' \n",
        "    json_path = f\"/content/gdrive/My Drive/saved_models/{json_model_save_name}\"\n",
        "    \n",
        "    model = model_from_json(open(json_path).read())\n",
        "    model.load_weights(path)\n",
        "    image = np.transpose(resize(cv2.imread(image_path), (32, 32)), (2, 0, 1)).astype(\"float32\")\n",
        "    image = image / 255.0\n",
        "    image = image.reshape((1,32,32,3))\n",
        "    optim = SGD()\n",
        "    model.compile(loss=\"categorical_crossentropy\", \n",
        "                  optimizer=optim,\n",
        "                  metrics=[\"accuracy\"])\n",
        "    predictions = model.predict (image)\n",
        "    print(predictions)\n",
        "    # print(classes[np.argmax(predictions)])"
      ],
      "execution_count": 67,
      "outputs": []
    },
    {
      "cell_type": "code",
      "metadata": {
        "id": "YT1frDndNNbe",
        "colab_type": "code",
        "colab": {
          "base_uri": "https://localhost:8080/",
          "height": 170
        },
        "outputId": "1f19d928-a8a3-480e-db7d-0c331b4b7815"
      },
      "source": [
        "predict(\"/content/dog_test.jpg\")\n",
        "predict(\"/content/cat_test.jpg\")\n",
        "predict(\"/content/automobile_test.jpg\")\n"
      ],
      "execution_count": 69,
      "outputs": [
        {
          "output_type": "stream",
          "text": [
            "[[0.3837116  0.00103359 0.1589075  0.02039208 0.03277269 0.0056318\n",
            "  0.0183731  0.00048763 0.37752786 0.0011622 ]]\n",
            "WARNING:tensorflow:5 out of the last 5 calls to <function Model.make_predict_function.<locals>.predict_function at 0x7f5cb22049d8> triggered tf.function retracing. Tracing is expensive and the excessive number of tracings could be due to (1) creating @tf.function repeatedly in a loop, (2) passing tensors with different shapes, (3) passing Python objects instead of tensors. For (1), please define your @tf.function outside of the loop. For (2), @tf.function has experimental_relax_shapes=True option that relaxes argument shapes that can avoid unnecessary retracing. For (3), please refer to https://www.tensorflow.org/tutorials/customization/performance#python_or_tensor_args and https://www.tensorflow.org/api_docs/python/tf/function for  more details.\n",
            "[[0.38155565 0.00103577 0.15727557 0.02035182 0.03273979 0.00564118\n",
            "  0.01839989 0.00048685 0.38135266 0.00116084]]\n",
            "WARNING:tensorflow:6 out of the last 6 calls to <function Model.make_predict_function.<locals>.predict_function at 0x7f5cb231a9d8> triggered tf.function retracing. Tracing is expensive and the excessive number of tracings could be due to (1) creating @tf.function repeatedly in a loop, (2) passing tensors with different shapes, (3) passing Python objects instead of tensors. For (1), please define your @tf.function outside of the loop. For (2), @tf.function has experimental_relax_shapes=True option that relaxes argument shapes that can avoid unnecessary retracing. For (3), please refer to https://www.tensorflow.org/tutorials/customization/performance#python_or_tensor_args and https://www.tensorflow.org/api_docs/python/tf/function for  more details.\n",
            "[[0.37291548 0.00101044 0.15142022 0.01971893 0.03277251 0.00552582\n",
            "  0.01791029 0.00045926 0.39714745 0.0011196 ]]\n"
          ],
          "name": "stdout"
        }
      ]
    },
    {
      "cell_type": "markdown",
      "metadata": {
        "id": "lk304ID-Tp7E",
        "colab_type": "text"
      },
      "source": [
        "<h1>VGG16</h1>"
      ]
    },
    {
      "cell_type": "code",
      "metadata": {
        "id": "AcIP6ZxePiGC",
        "colab_type": "code",
        "colab": {}
      },
      "source": [
        "def VGG_16(weights_path):\n",
        "    model = tf.keras.Sequential()\n",
        "\n",
        "    model.add(layers.ZeroPadding2D((1,1), input_shape=(224, 224, 3)))\n",
        "    model.add(layers.Conv2D(64, (3, 3), activation=\"relu\"))\n",
        "    model.add(layers.ZeroPadding2D((1,1)))\n",
        "    model.add(layers.Conv2D(64, (3,3), activation=\"relu\"))\n",
        "    model.add(layers.MaxPooling2D((2,2), strides=(2,2)))\n",
        "\n",
        "    model.add(layers.ZeroPadding2D((1,1)))\n",
        "    model.add(layers.Conv2D(128, (3, 3), activation=\"relu\"))\n",
        "    model.add(layers.ZeroPadding2D((1,1)))\n",
        "    model.add(layers.Conv2D(128, (3,3), activation=\"relu\"))\n",
        "    model.add(layers.MaxPooling2D((2,2), strides=(2,2)))\n",
        "\n",
        "    model.add(layers.ZeroPadding2D((1,1)))\n",
        "    model.add(layers.Conv2D(256, (3, 3), activation=\"relu\"))\n",
        "    model.add(layers.ZeroPadding2D((1,1)))\n",
        "    model.add(layers.Conv2D(256, (3,3), activation=\"relu\"))\n",
        "    model.add(layers.ZeroPadding2D((1,1)))\n",
        "    model.add(layers.Conv2D(256, (3,3), activation=\"relu\"))\n",
        "    model.add(layers.MaxPooling2D((2,2), strides=(2,2)))\n",
        "\n",
        "    model.add(layers.ZeroPadding2D((1,1)))\n",
        "    model.add(layers.Conv2D(512, (3, 3), activation=\"relu\"))\n",
        "    model.add(layers.ZeroPadding2D((1,1)))\n",
        "    model.add(layers.Conv2D(512, (3,3), activation=\"relu\"))\n",
        "    model.add(layers.ZeroPadding2D((1,1)))\n",
        "    model.add(layers.Conv2D(512, (3,3), activation=\"relu\"))\n",
        "    model.add(layers.MaxPooling2D((2,2), strides=(2,2)))\n",
        "\n",
        "    model.add(layers.ZeroPadding2D((1,1)))\n",
        "    model.add(layers.Conv2D(512, (3, 3), activation=\"relu\"))\n",
        "    model.add(layers.ZeroPadding2D((1,1)))\n",
        "    model.add(layers.Conv2D(512, (3,3), activation=\"relu\"))\n",
        "    model.add(layers.ZeroPadding2D((1,1)))\n",
        "    model.add(layers.Conv2D(512, (3,3), activation=\"relu\"))\n",
        "    model.add(layers.MaxPooling2D((2,2), strides=(2,2)))\n",
        "\n",
        "    model.add(layers.Flatten())\n",
        "\n",
        "    model.add(layers.Dense(4096, activation=\"relu\"))\n",
        "    model.add(layers.Dropout(0.5))\n",
        "    model.add(layers.Dense(4096, activation=\"relu\"))\n",
        "    model.add(layers.Dropout(0.5))\n",
        "    model.add(layers.Dense(1000, activation=\"softmax\"))\n",
        "\n",
        "    if weights_path:\n",
        "        model.load_weights(weights_path)\n",
        "\n",
        "    return model"
      ],
      "execution_count": 70,
      "outputs": []
    },
    {
      "cell_type": "code",
      "metadata": {
        "id": "z5E1NUhUTttN",
        "colab_type": "code",
        "colab": {
          "base_uri": "https://localhost:8080/",
          "height": 136
        },
        "outputId": "8398d1ae-d743-47e9-9f21-40339320c6c7"
      },
      "source": [
        "from tensorflow.keras.applications.vgg16 import VGG16\n",
        "\n",
        "model = VGG16(weights=\"imagenet\", include_top=True)\n",
        "model.compile(optimizer=\"sgd\", loss=\"categorical_crossentropy\")\n",
        "\n",
        "im = cv2.resize(cv2.imread('dog_test.jpg'), (224, 224)).astype(np.float32)\n",
        "im = np.expand_dims(im, axis=0)\n",
        "\n",
        "out = model.predict(im)\n",
        "index = np.argmax(out)\n",
        "print(index)\n",
        "\n",
        "im = cv2.resize(cv2.imread('cat_test.jpg'), (224, 224)).astype(np.float32)\n",
        "im = np.expand_dims(im, axis=0)\n",
        "\n",
        "out = model.predict(im)\n",
        "index = np.argmax(out)\n",
        "print(index)\n",
        "\n",
        "im = cv2.resize(cv2.imread('automobile_test.jpg'), (224, 224)).astype(np.float32)\n",
        "im = np.expand_dims(im, axis=0)\n",
        "\n",
        "out = model.predict(im)\n",
        "index = np.argmax(out)\n",
        "print(index)"
      ],
      "execution_count": 72,
      "outputs": [
        {
          "output_type": "stream",
          "text": [
            "Downloading data from https://storage.googleapis.com/tensorflow/keras-applications/vgg16/vgg16_weights_tf_dim_ordering_tf_kernels.h5\n",
            "553467904/553467096 [==============================] - 17s 0us/step\n",
            "WARNING:tensorflow:7 out of the last 7 calls to <function Model.make_predict_function.<locals>.predict_function at 0x7f5cb231a510> triggered tf.function retracing. Tracing is expensive and the excessive number of tracings could be due to (1) creating @tf.function repeatedly in a loop, (2) passing tensors with different shapes, (3) passing Python objects instead of tensors. For (1), please define your @tf.function outside of the loop. For (2), @tf.function has experimental_relax_shapes=True option that relaxes argument shapes that can avoid unnecessary retracing. For (3), please refer to https://www.tensorflow.org/tutorials/customization/performance#python_or_tensor_args and https://www.tensorflow.org/api_docs/python/tf/function for  more details.\n",
            "211\n",
            "282\n",
            "817\n"
          ],
          "name": "stdout"
        }
      ]
    },
    {
      "cell_type": "code",
      "metadata": {
        "id": "au3mMIiVXsWC",
        "colab_type": "code",
        "colab": {}
      },
      "source": [
        ""
      ],
      "execution_count": null,
      "outputs": []
    }
  ]
}