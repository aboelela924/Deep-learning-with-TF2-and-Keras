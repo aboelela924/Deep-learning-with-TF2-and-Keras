{
  "nbformat": 4,
  "nbformat_minor": 0,
  "metadata": {
    "colab": {
      "name": "Deep learning with TF2 and Keras: chapter 02.ipynb",
      "provenance": [],
      "collapsed_sections": [],
      "authorship_tag": "ABX9TyN+X5HJbDAIa65KnS+gtjgE",
      "include_colab_link": true
    },
    "kernelspec": {
      "name": "python3",
      "display_name": "Python 3"
    },
    "widgets": {
      "application/vnd.jupyter.widget-state+json": {
        "6e9b2daa7fd94d649a263df006629168": {
          "model_module": "@jupyter-widgets/controls",
          "model_name": "HBoxModel",
          "state": {
            "_view_name": "HBoxView",
            "_dom_classes": [],
            "_model_name": "HBoxModel",
            "_view_module": "@jupyter-widgets/controls",
            "_model_module_version": "1.5.0",
            "_view_count": null,
            "_view_module_version": "1.5.0",
            "box_style": "",
            "layout": "IPY_MODEL_ba274940bb9a427ba7f6ffc4b3e67bd6",
            "_model_module": "@jupyter-widgets/controls",
            "children": [
              "IPY_MODEL_cb701c8ffbc14e0ca728acf25301135e",
              "IPY_MODEL_1e4a9e32604d49cfae2f59928debb562"
            ]
          }
        },
        "ba274940bb9a427ba7f6ffc4b3e67bd6": {
          "model_module": "@jupyter-widgets/base",
          "model_name": "LayoutModel",
          "state": {
            "_view_name": "LayoutView",
            "grid_template_rows": null,
            "right": null,
            "justify_content": null,
            "_view_module": "@jupyter-widgets/base",
            "overflow": null,
            "_model_module_version": "1.2.0",
            "_view_count": null,
            "flex_flow": null,
            "width": null,
            "min_width": null,
            "border": null,
            "align_items": null,
            "bottom": null,
            "_model_module": "@jupyter-widgets/base",
            "top": null,
            "grid_column": null,
            "overflow_y": null,
            "overflow_x": null,
            "grid_auto_flow": null,
            "grid_area": null,
            "grid_template_columns": null,
            "flex": null,
            "_model_name": "LayoutModel",
            "justify_items": null,
            "grid_row": null,
            "max_height": null,
            "align_content": null,
            "visibility": null,
            "align_self": null,
            "height": null,
            "min_height": null,
            "padding": null,
            "grid_auto_rows": null,
            "grid_gap": null,
            "max_width": null,
            "order": null,
            "_view_module_version": "1.2.0",
            "grid_template_areas": null,
            "object_position": null,
            "object_fit": null,
            "grid_auto_columns": null,
            "margin": null,
            "display": null,
            "left": null
          }
        },
        "cb701c8ffbc14e0ca728acf25301135e": {
          "model_module": "@jupyter-widgets/controls",
          "model_name": "FloatProgressModel",
          "state": {
            "_view_name": "ProgressView",
            "style": "IPY_MODEL_cbecdfb122b8499eaf05ee4cac503387",
            "_dom_classes": [],
            "description": "Dl Completed...: 100%",
            "_model_name": "FloatProgressModel",
            "bar_style": "success",
            "max": 4,
            "_view_module": "@jupyter-widgets/controls",
            "_model_module_version": "1.5.0",
            "value": 4,
            "_view_count": null,
            "_view_module_version": "1.5.0",
            "orientation": "horizontal",
            "min": 0,
            "description_tooltip": null,
            "_model_module": "@jupyter-widgets/controls",
            "layout": "IPY_MODEL_339b0303c2ca40639d1a1a2f94005eef"
          }
        },
        "1e4a9e32604d49cfae2f59928debb562": {
          "model_module": "@jupyter-widgets/controls",
          "model_name": "HTMLModel",
          "state": {
            "_view_name": "HTMLView",
            "style": "IPY_MODEL_d2f895b9fd334682a0685c31d041b510",
            "_dom_classes": [],
            "description": "",
            "_model_name": "HTMLModel",
            "placeholder": "​",
            "_view_module": "@jupyter-widgets/controls",
            "_model_module_version": "1.5.0",
            "value": " 4/4 [00:00&lt;00:00,  5.33 file/s]",
            "_view_count": null,
            "_view_module_version": "1.5.0",
            "description_tooltip": null,
            "_model_module": "@jupyter-widgets/controls",
            "layout": "IPY_MODEL_4943c9791d5740b2b33ff1306a70e888"
          }
        },
        "cbecdfb122b8499eaf05ee4cac503387": {
          "model_module": "@jupyter-widgets/controls",
          "model_name": "ProgressStyleModel",
          "state": {
            "_view_name": "StyleView",
            "_model_name": "ProgressStyleModel",
            "description_width": "initial",
            "_view_module": "@jupyter-widgets/base",
            "_model_module_version": "1.5.0",
            "_view_count": null,
            "_view_module_version": "1.2.0",
            "bar_color": null,
            "_model_module": "@jupyter-widgets/controls"
          }
        },
        "339b0303c2ca40639d1a1a2f94005eef": {
          "model_module": "@jupyter-widgets/base",
          "model_name": "LayoutModel",
          "state": {
            "_view_name": "LayoutView",
            "grid_template_rows": null,
            "right": null,
            "justify_content": null,
            "_view_module": "@jupyter-widgets/base",
            "overflow": null,
            "_model_module_version": "1.2.0",
            "_view_count": null,
            "flex_flow": null,
            "width": null,
            "min_width": null,
            "border": null,
            "align_items": null,
            "bottom": null,
            "_model_module": "@jupyter-widgets/base",
            "top": null,
            "grid_column": null,
            "overflow_y": null,
            "overflow_x": null,
            "grid_auto_flow": null,
            "grid_area": null,
            "grid_template_columns": null,
            "flex": null,
            "_model_name": "LayoutModel",
            "justify_items": null,
            "grid_row": null,
            "max_height": null,
            "align_content": null,
            "visibility": null,
            "align_self": null,
            "height": null,
            "min_height": null,
            "padding": null,
            "grid_auto_rows": null,
            "grid_gap": null,
            "max_width": null,
            "order": null,
            "_view_module_version": "1.2.0",
            "grid_template_areas": null,
            "object_position": null,
            "object_fit": null,
            "grid_auto_columns": null,
            "margin": null,
            "display": null,
            "left": null
          }
        },
        "d2f895b9fd334682a0685c31d041b510": {
          "model_module": "@jupyter-widgets/controls",
          "model_name": "DescriptionStyleModel",
          "state": {
            "_view_name": "StyleView",
            "_model_name": "DescriptionStyleModel",
            "description_width": "",
            "_view_module": "@jupyter-widgets/base",
            "_model_module_version": "1.5.0",
            "_view_count": null,
            "_view_module_version": "1.2.0",
            "_model_module": "@jupyter-widgets/controls"
          }
        },
        "4943c9791d5740b2b33ff1306a70e888": {
          "model_module": "@jupyter-widgets/base",
          "model_name": "LayoutModel",
          "state": {
            "_view_name": "LayoutView",
            "grid_template_rows": null,
            "right": null,
            "justify_content": null,
            "_view_module": "@jupyter-widgets/base",
            "overflow": null,
            "_model_module_version": "1.2.0",
            "_view_count": null,
            "flex_flow": null,
            "width": null,
            "min_width": null,
            "border": null,
            "align_items": null,
            "bottom": null,
            "_model_module": "@jupyter-widgets/base",
            "top": null,
            "grid_column": null,
            "overflow_y": null,
            "overflow_x": null,
            "grid_auto_flow": null,
            "grid_area": null,
            "grid_template_columns": null,
            "flex": null,
            "_model_name": "LayoutModel",
            "justify_items": null,
            "grid_row": null,
            "max_height": null,
            "align_content": null,
            "visibility": null,
            "align_self": null,
            "height": null,
            "min_height": null,
            "padding": null,
            "grid_auto_rows": null,
            "grid_gap": null,
            "max_width": null,
            "order": null,
            "_view_module_version": "1.2.0",
            "grid_template_areas": null,
            "object_position": null,
            "object_fit": null,
            "grid_auto_columns": null,
            "margin": null,
            "display": null,
            "left": null
          }
        }
      }
    }
  },
  "cells": [
    {
      "cell_type": "markdown",
      "metadata": {
        "id": "view-in-github",
        "colab_type": "text"
      },
      "source": [
        "<a href=\"https://colab.research.google.com/github/aboelela924/Deep-learning-with-TF2-and-Keras/blob/master/Deep_learning_with_TF2_and_Keras_chapter_02.ipynb\" target=\"_parent\"><img src=\"https://colab.research.google.com/assets/colab-badge.svg\" alt=\"Open In Colab\"/></a>"
      ]
    },
    {
      "cell_type": "code",
      "metadata": {
        "id": "xYZ_ZrV94vqN",
        "colab_type": "code",
        "colab": {}
      },
      "source": [
        "import tensorflow.compat.v1 as tf\n",
        "# tf.disable_eager_execution()"
      ],
      "execution_count": null,
      "outputs": []
    },
    {
      "cell_type": "code",
      "metadata": {
        "id": "ZBmPluglWKV9",
        "colab_type": "code",
        "colab": {}
      },
      "source": [
        "def separator():\n",
        "    print(\"\\n*------------------------------------------------*\\n\")"
      ],
      "execution_count": null,
      "outputs": []
    },
    {
      "cell_type": "markdown",
      "metadata": {
        "id": "WX7ThViU8Gsw",
        "colab_type": "text"
      },
      "source": [
        "<h1>Computational graphs</h1>"
      ]
    },
    {
      "cell_type": "code",
      "metadata": {
        "id": "l00Ljf2M7l3z",
        "colab_type": "code",
        "colab": {
          "base_uri": "https://localhost:8080/",
          "height": 33
        },
        "outputId": "b8f6e286-34cf-4cd1-ca1c-40cf4b627773"
      },
      "source": [
        "v1 = tf.constant([1,2,3,4])\n",
        "v2 = tf.constant([2,1,5,3])\n",
        "operation = tf.add(v1, v2)\n",
        "with tf.Session() as sess:\n",
        "    print(sess.run(operation))"
      ],
      "execution_count": null,
      "outputs": [
        {
          "output_type": "stream",
          "text": [
            "[3 3 8 7]\n"
          ],
          "name": "stdout"
        }
      ]
    },
    {
      "cell_type": "code",
      "metadata": {
        "id": "D5q2TYNlFp68",
        "colab_type": "code",
        "colab": {
          "base_uri": "https://localhost:8080/",
          "height": 283
        },
        "outputId": "12b9cf5a-8bb5-498b-d7f5-2f6ed30f1f95"
      },
      "source": [
        "\n",
        "t_1 = tf.constant(1)\n",
        "t_2 = tf.constant([1,2,3,4,5,6,78,9])\n",
        "t_zeros = tf.zeros((3,4), tf.int32)\n",
        "\n",
        "print(t_1)\n",
        "separator()\n",
        "print(t_2)\n",
        "separator()\n",
        "print(t_zeros)\n",
        "separator()\n",
        "print(t_zeros.shape)"
      ],
      "execution_count": null,
      "outputs": [
        {
          "output_type": "stream",
          "text": [
            "tf.Tensor(1, shape=(), dtype=int32)\n",
            "\n",
            "*------------------------------------------------*\n",
            "\n",
            "tf.Tensor([ 1  2  3  4  5  6 78  9], shape=(8,), dtype=int32)\n",
            "\n",
            "*------------------------------------------------*\n",
            "\n",
            "tf.Tensor(\n",
            "[[0 0 0 0]\n",
            " [0 0 0 0]\n",
            " [0 0 0 0]], shape=(3, 4), dtype=int32)\n",
            "\n",
            "*------------------------------------------------*\n",
            "\n",
            "(3, 4)\n"
          ],
          "name": "stdout"
        }
      ]
    },
    {
      "cell_type": "code",
      "metadata": {
        "id": "m662xBmVV1Y6",
        "colab_type": "code",
        "colab": {
          "base_uri": "https://localhost:8080/",
          "height": 83
        },
        "outputId": "553150cc-4835-4e16-897f-20b8a40a5d22"
      },
      "source": [
        "t = tf.Variable([[0,1,2],\n",
        "                 [3,4,5],\n",
        "                 [6,7,8]])\n",
        "print(t*2)"
      ],
      "execution_count": null,
      "outputs": [
        {
          "output_type": "stream",
          "text": [
            "tf.Tensor(\n",
            "[[ 0  2  4]\n",
            " [ 6  8 10]\n",
            " [12 14 16]], shape=(3, 3), dtype=int32)\n"
          ],
          "name": "stdout"
        }
      ]
    },
    {
      "cell_type": "code",
      "metadata": {
        "id": "VylKQ8HaWzrk",
        "colab_type": "code",
        "colab": {
          "base_uri": "https://localhost:8080/",
          "height": 33
        },
        "outputId": "0068ba9b-cd7e-4b1f-bee9-b2c2896965e7"
      },
      "source": [
        "range_t = tf.linspace(2.0, 5.0, 5)\n",
        "print(range_t)"
      ],
      "execution_count": null,
      "outputs": [
        {
          "output_type": "stream",
          "text": [
            "tf.Tensor([2.   2.75 3.5  4.25 5.  ], shape=(5,), dtype=float32)\n"
          ],
          "name": "stdout"
        }
      ]
    },
    {
      "cell_type": "code",
      "metadata": {
        "id": "d8MlSKAAXQ0u",
        "colab_type": "code",
        "colab": {
          "base_uri": "https://localhost:8080/",
          "height": 33
        },
        "outputId": "f23528d5-72b1-41bc-b0ea-35b2806417da"
      },
      "source": [
        "print(tf.range(10))"
      ],
      "execution_count": null,
      "outputs": [
        {
          "output_type": "stream",
          "text": [
            "tf.Tensor([0 1 2 3 4 5 6 7 8 9], shape=(10,), dtype=int32)\n"
          ],
          "name": "stdout"
        }
      ]
    },
    {
      "cell_type": "code",
      "metadata": {
        "id": "VRpeipQ7XoLq",
        "colab_type": "code",
        "colab": {
          "base_uri": "https://localhost:8080/",
          "height": 166
        },
        "outputId": "bf47fec8-2a53-40b8-a7cc-a73fbaff3d87"
      },
      "source": [
        "t_random = tf.random_normal((2,3), mean=2.0, stddev=4, seed=12)\n",
        "print(t_random)\n",
        "t_random_truncated = tf.truncated_normal((1,5), stddev=4, seed=12)\n",
        "print(t_random_truncated)\n",
        "t_random_maxed = tf.random_uniform((1,5), maxval=4, seed=12)\n",
        "print(t_random_maxed)\n",
        "print(tf.random_crop(t_random, (1,2), seed=12))\n",
        "print(tf.random_shuffle(t_random))\n"
      ],
      "execution_count": null,
      "outputs": [
        {
          "output_type": "stream",
          "text": [
            "tf.Tensor(\n",
            "[[ 4.141584  -2.4323368  1.4757246]\n",
            " [ 3.939736   2.7487824  4.4081745]], shape=(2, 3), dtype=float32)\n",
            "tf.Tensor([[ 4.761191    3.7189643  -1.5012052  -3.4287133  -0.46264905]], shape=(1, 5), dtype=float32)\n",
            "tf.Tensor([[2.0150442 1.667253  2.4221244 3.6843219 3.673421 ]], shape=(1, 5), dtype=float32)\n",
            "tf.Tensor([[2.7487824 4.4081745]], shape=(1, 2), dtype=float32)\n",
            "tf.Tensor(\n",
            "[[ 3.939736   2.7487824  4.4081745]\n",
            " [ 4.141584  -2.4323368  1.4757246]], shape=(2, 3), dtype=float32)\n"
          ],
          "name": "stdout"
        }
      ]
    },
    {
      "cell_type": "markdown",
      "metadata": {
        "id": "68L6X5HckbJa",
        "colab_type": "text"
      },
      "source": [
        "<h3>Variables</h3>"
      ]
    },
    {
      "cell_type": "code",
      "metadata": {
        "id": "eWmRlZBGhKvq",
        "colab_type": "code",
        "colab": {}
      },
      "source": [
        "rand_t = tf.random_uniform((50, 50), 0, 10, seed=0)\n",
        "t_a = tf.Variable(rand_t)\n",
        "t_b = tf.Variable(rand_t)\n",
        "print(t_a)\n",
        "print(t_b)"
      ],
      "execution_count": null,
      "outputs": []
    },
    {
      "cell_type": "code",
      "metadata": {
        "id": "MG4TLnsVlAGS",
        "colab_type": "code",
        "colab": {}
      },
      "source": [
        "weights = tf.Variable(tf.random_normal((100, 100),  stddev=4))\n",
        "bias = tf.Variable(tf.zeros(100), name=\"bias\")"
      ],
      "execution_count": null,
      "outputs": []
    },
    {
      "cell_type": "markdown",
      "metadata": {
        "id": "xA-yvCzCm1Zv",
        "colab_type": "text"
      },
      "source": [
        "<h1>An example of TensorFlow 1.x in TensorFlow 2.x</h1>"
      ]
    },
    {
      "cell_type": "code",
      "metadata": {
        "id": "Rf1E98WSlf51",
        "colab_type": "code",
        "colab": {}
      },
      "source": [
        "import tensorflow.compat.v1 as tf\n",
        "tf.disable_v2_behavior()\n",
        "\n",
        "in_a = tf.placeholder(dtype=tf.float32, shape=(2,))\n",
        "def model(x):\n",
        "    with tf.variable_scope(\"matmul\"):\n",
        "        W = tf.get_variable(\"W\", initializer=tf.ones(shape=(2,2)))\n",
        "        b = tf.get_variable(\"b\", initializer=tf.zeros(shape=(2,1)))\n",
        "        return x * W + b\n",
        "\n",
        "out_a = model(in_a)\n",
        "\n",
        "with tf.Session() as sess:\n",
        "    sess.run(tf.global_variables_initializer())\n",
        "    out = sess.run([out_a], feed_dict={in_a: [1, 0]})\n",
        "    writer = tf.summary.FileWriter(\"/content/example\", sess.graph) "
      ],
      "execution_count": null,
      "outputs": []
    },
    {
      "cell_type": "code",
      "metadata": {
        "id": "EIA9SaTim9cF",
        "colab_type": "code",
        "colab": {}
      },
      "source": [
        "import tensorboard"
      ],
      "execution_count": null,
      "outputs": []
    },
    {
      "cell_type": "code",
      "metadata": {
        "id": "5R_jBbzIsPYi",
        "colab_type": "code",
        "colab": {
          "base_uri": "https://localhost:8080/",
          "height": 33
        },
        "outputId": "16534989-1425-4f4d-b896-8086218f7a11"
      },
      "source": [
        "!docker run -it -p 8888:8888 -p 6006:6006 \\\n",
        "tensorflow/tensorflow:nightly-py3-jupyter "
      ],
      "execution_count": null,
      "outputs": [
        {
          "output_type": "stream",
          "text": [
            "/bin/bash: docker: command not found\n"
          ],
          "name": "stdout"
        }
      ]
    },
    {
      "cell_type": "code",
      "metadata": {
        "id": "R5TXgydOrYM0",
        "colab_type": "code",
        "colab": {}
      },
      "source": [
        "%load_ext tensorboard\n",
        "%tensorboard --logdir example"
      ],
      "execution_count": null,
      "outputs": []
    },
    {
      "cell_type": "code",
      "metadata": {
        "id": "m30fQyFCre-n",
        "colab_type": "code",
        "colab": {}
      },
      "source": [
        "import tensorflow as tf\n",
        "def linear_layer(x):\n",
        "    return 3*x+2\n",
        "\n",
        "@tf.function\n",
        "def simple_nn():\n",
        "    return tf.nn.relu(linear_layer(x))\n",
        "\n",
        "def simple_function(x):\n",
        "    return 3*x"
      ],
      "execution_count": null,
      "outputs": []
    },
    {
      "cell_type": "code",
      "metadata": {
        "id": "GxLPzFD3vAbg",
        "colab_type": "code",
        "colab": {
          "base_uri": "https://localhost:8080/",
          "height": 50
        },
        "outputId": "f36466f1-7da6-4598-98da-3f7acd7e4c2e"
      },
      "source": [
        "print(simple_nn)\n",
        "print(simple_function)"
      ],
      "execution_count": null,
      "outputs": [
        {
          "output_type": "stream",
          "text": [
            "<tensorflow.python.eager.def_function.Function object at 0x7f7a2cd7f0b8>\n",
            "<function simple_function at 0x7f7a2cdd28c8>\n"
          ],
          "name": "stdout"
        }
      ]
    },
    {
      "cell_type": "code",
      "metadata": {
        "id": "BV0AEeuNv0jP",
        "colab_type": "code",
        "colab": {
          "base_uri": "https://localhost:8080/",
          "height": 216
        },
        "outputId": "bd604c1f-1abc-4ad0-a6ef-d260f4201e84"
      },
      "source": [
        "print(tf.autograph.to_code(simple_nn.python_function))"
      ],
      "execution_count": null,
      "outputs": [
        {
          "output_type": "stream",
          "text": [
            "def tf__simple_nn():\n",
            "    with ag__.FunctionScope('simple_nn', 'fscope', ag__.ConversionOptions(recursive=True, user_requested=True, optional_features=(), internal_convert_user_code=True)) as fscope:\n",
            "        do_return = False\n",
            "        retval_ = ag__.UndefinedReturnValue()\n",
            "        try:\n",
            "            do_return = True\n",
            "            retval_ = ag__.converted_call(ag__.ld(tf).nn.relu, (ag__.converted_call(ag__.ld(linear_layer), (ag__.ld(x),), None, fscope),), None, fscope)\n",
            "        except:\n",
            "            do_return = False\n",
            "            raise\n",
            "        return fscope.ret(retval_, do_return)\n",
            "\n"
          ],
          "name": "stdout"
        }
      ]
    },
    {
      "cell_type": "markdown",
      "metadata": {
        "id": "LBOSAU4g1R6c",
        "colab_type": "text"
      },
      "source": [
        "<h1>Functional API</h1>"
      ]
    },
    {
      "cell_type": "code",
      "metadata": {
        "id": "mX0flssTwMiS",
        "colab_type": "code",
        "colab": {}
      },
      "source": [
        "import tensorflow as tf \n",
        "\n",
        "def build_model():\n",
        "    text_input_a = tf.keras.Input(shape=(None, ), dtype=\"int32\")\n",
        "    text_input_b = tf.keras.Input(shape=(None, ), dtype=\"int32\")\n",
        "    shared_embedding = tf.keras.layers.Embedding(1000, 128)\n",
        "    encoded_input_a = shared_embedding(text_input_a)\n",
        "    encoded_input_b = shared_embedding(text_input_b)\n",
        "    prediction_a = tf.keras.layers.Dense(1, activation=\"sigmoid\", name=\"prediction_a\")(encoded_input_a)\n",
        "    prediction_b = tf.keras.layers.Dense(1, activation=\"sigmoid\", name=\"prediction_b\")(encoded_input_b)\n",
        "\n",
        "    model = tf.keras.Model(inputs=[text_input_a, text_input_b], \n",
        "                           outputs=[prediction_a, prediction_b])\n",
        "    tf.keras.utils.plot_model(model, \"/content/shared_model.png\")\n",
        "\n",
        "build_model()"
      ],
      "execution_count": null,
      "outputs": []
    },
    {
      "cell_type": "markdown",
      "metadata": {
        "id": "Pda_q0qZ4OV7",
        "colab_type": "text"
      },
      "source": [
        "<h1>Model subclassing</h1>"
      ]
    },
    {
      "cell_type": "code",
      "metadata": {
        "id": "7AUfW5q536Bk",
        "colab_type": "code",
        "colab": {}
      },
      "source": [
        "class MyLayer(tf.keras.layers.Layer):\n",
        "    \n",
        "    def __init__(self, output_dim, **args):\n",
        "        self.output_dim = output_dim\n",
        "        super(MyLayer, self).__init__(**args)\n",
        "\n",
        "    def build(self, input_shape):\n",
        "        self.kernel = self.add_weight(name=\"kernel\", \n",
        "                                      shape=(input_shape[1], self.output_dim),\n",
        "                                      initializer=\"uniform\", \n",
        "                                      trainable=True)\n",
        "        \n",
        "    def call(self, inputs):\n",
        "        return tf.matmul(inputs, self.kernel)"
      ],
      "execution_count": 13,
      "outputs": []
    },
    {
      "cell_type": "markdown",
      "metadata": {
        "id": "ZeAMaCqx_RmM",
        "colab_type": "text"
      },
      "source": [
        "<h1>Estimators</h>"
      ]
    },
    {
      "cell_type": "code",
      "metadata": {
        "id": "BaWPgpYz5Sjw",
        "colab_type": "code",
        "colab": {
          "base_uri": "https://localhost:8080/",
          "height": 232,
          "referenced_widgets": [
            "6e9b2daa7fd94d649a263df006629168",
            "ba274940bb9a427ba7f6ffc4b3e67bd6",
            "cb701c8ffbc14e0ca728acf25301135e",
            "1e4a9e32604d49cfae2f59928debb562",
            "cbecdfb122b8499eaf05ee4cac503387",
            "339b0303c2ca40639d1a1a2f94005eef",
            "d2f895b9fd334682a0685c31d041b510",
            "4943c9791d5740b2b33ff1306a70e888"
          ]
        },
        "outputId": "f504c25e-cdd7-422f-94ce-fe59b0ab867c"
      },
      "source": [
        "import tensorflow as tf\n",
        "import tensorflow_datasets as tfds\n",
        "BUFFER_SIZE = 10000\n",
        "BATCH_SIZE = 64\n",
        "def input_fn(mode):\n",
        "    datasets, info = tfds.load(name='mnist',\n",
        "    with_info=True,\n",
        "    as_supervised=True)\n",
        "    mnist_dataset = (datasets['train'] if mode == tf.estimator.ModeKeys.\n",
        "    TRAIN else datasets['test'])\n",
        "def scale(image, label):\n",
        "    image = tf.cast(image, tf.float32)\n",
        "    image /= 255\n",
        "    return image, label\n",
        "    return mnist_dataset.map(scale).shuffle(BUFFER_SIZE).batch(BATCH_SIZE)\n",
        "test = input_fn('test')\n",
        "train = input_fn(tf.estimator.ModeKeys.TRAIN)\n",
        "print(test)\n",
        "print(train)"
      ],
      "execution_count": 17,
      "outputs": [
        {
          "output_type": "stream",
          "text": [
            "\u001b[1mDownloading and preparing dataset mnist/3.0.0 (download: 11.06 MiB, generated: Unknown size, total: 11.06 MiB) to /root/tensorflow_datasets/mnist/3.0.0...\u001b[0m\n"
          ],
          "name": "stdout"
        },
        {
          "output_type": "stream",
          "text": [
            "WARNING:absl:Dataset mnist is hosted on GCS. It will automatically be downloaded to your\n",
            "local data directory. If you'd instead prefer to read directly from our public\n",
            "GCS bucket (recommended if you're running on GCP), you can instead set\n",
            "data_dir=gs://tfds-data/datasets.\n",
            "\n"
          ],
          "name": "stderr"
        },
        {
          "output_type": "display_data",
          "data": {
            "application/vnd.jupyter.widget-view+json": {
              "model_id": "6e9b2daa7fd94d649a263df006629168",
              "version_minor": 0,
              "version_major": 2
            },
            "text/plain": [
              "HBox(children=(FloatProgress(value=0.0, description='Dl Completed...', max=4.0, style=ProgressStyle(descriptio…"
            ]
          },
          "metadata": {
            "tags": []
          }
        },
        {
          "output_type": "stream",
          "text": [
            "\n",
            "\n",
            "\u001b[1mDataset mnist downloaded and prepared to /root/tensorflow_datasets/mnist/3.0.0. Subsequent calls will reuse this data.\u001b[0m\n",
            "None\n",
            "None\n"
          ],
          "name": "stdout"
        }
      ]
    },
    {
      "cell_type": "code",
      "metadata": {
        "id": "Ebj6bDwm_q81",
        "colab_type": "code",
        "colab": {}
      },
      "source": [
        ""
      ],
      "execution_count": null,
      "outputs": []
    }
  ]
}