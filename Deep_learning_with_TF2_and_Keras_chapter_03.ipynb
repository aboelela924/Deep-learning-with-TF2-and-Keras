{
  "nbformat": 4,
  "nbformat_minor": 0,
  "metadata": {
    "colab": {
      "name": "Deep learning with TF2 and Keras: chapter 03.ipynb",
      "provenance": [],
      "collapsed_sections": [],
      "authorship_tag": "ABX9TyPb5Z5ihDHvEmitvGc2IqhH",
      "include_colab_link": true
    },
    "kernelspec": {
      "name": "python3",
      "display_name": "Python 3"
    }
  },
  "cells": [
    {
      "cell_type": "markdown",
      "metadata": {
        "id": "view-in-github",
        "colab_type": "text"
      },
      "source": [
        "<a href=\"https://colab.research.google.com/github/aboelela924/Deep-learning-with-TF2-and-Keras/blob/master/Deep_learning_with_TF2_and_Keras_chapter_03.ipynb\" target=\"_parent\"><img src=\"https://colab.research.google.com/assets/colab-badge.svg\" alt=\"Open In Colab\"/></a>"
      ]
    },
    {
      "cell_type": "code",
      "metadata": {
        "id": "vBFXZd4CarE6",
        "colab_type": "code",
        "colab": {}
      },
      "source": [
        "import tensorflow as tf \n",
        "import numpy as np \n",
        "import pandas as pd\n",
        "import matplotlib.pyplot as plt"
      ],
      "execution_count": null,
      "outputs": []
    },
    {
      "cell_type": "code",
      "metadata": {
        "id": "toBXNg6bf1Q8",
        "colab_type": "code",
        "colab": {
          "base_uri": "https://localhost:8080/",
          "height": 264
        },
        "outputId": "5b34b2b9-8c5e-4c6c-c75b-88d58151d398"
      },
      "source": [
        "np.random.seed(0)\n",
        "area = np.random.randn(100)+25\n",
        "price = 25*area + np.random.randint(20,50, size=len(area))\n",
        "\n",
        "data = np.array([area, price])\n",
        "data = pd.DataFrame(data=data.T, columns=[\"area\", \"price\"])\n",
        "\n",
        "plt.scatter(data[\"area\"], data[\"price\"])\n",
        "plt.show()"
      ],
      "execution_count": null,
      "outputs": [
        {
          "output_type": "display_data",
          "data": {
            "image/png": "[encoded data removed]",
            "text/plain": [
              "<Figure size 432x288 with 1 Axes>"
            ]
          },
          "metadata": {
            "tags": [],
            "needs_background": "light"
          }
        }
      ]
    },
    {
      "cell_type": "code",
      "metadata": {
        "id": "tAVi7byjgRPJ",
        "colab_type": "code",
        "colab": {
          "base_uri": "https://localhost:8080/",
          "height": 50
        },
        "outputId": "ec74a425-6d52-4072-a0ae-e388e4313f42"
      },
      "source": [
        "w = sum(price*(area - np.mean(area))) / sum((area - np.mean(area))**2)\n",
        "b = np.mean(price) - w * np.mean(area)\n",
        "print(w)\n",
        "print(b)"
      ],
      "execution_count": null,
      "outputs": [
        {
          "output_type": "stream",
          "text": [
            "24.538860130713502\n",
            "45.416076592628315\n"
          ],
          "name": "stdout"
        }
      ]
    },
    {
      "cell_type": "code",
      "metadata": {
        "id": "M5za_MwYivA-",
        "colab_type": "code",
        "colab": {}
      },
      "source": [
        "y_pred = w * area + b"
      ],
      "execution_count": null,
      "outputs": []
    },
    {
      "cell_type": "code",
      "metadata": {
        "id": "Cvc8q9cKi9OF",
        "colab_type": "code",
        "colab": {
          "base_uri": "https://localhost:8080/",
          "height": 295
        },
        "outputId": "bdb4f454-a82b-4fb9-ea63-55dcf778a4b2"
      },
      "source": [
        "plt.plot(area, y_pred, color=\"red\", label=\"Predicted Price\")\n",
        "plt.scatter(data['area'], data['price'], color=\"blue\", label=\"Real price\")\n",
        "plt.xlabel(\"Area\")\n",
        "plt.ylabel(\"Price\")\n",
        "plt.legend()"
      ],
      "execution_count": null,
      "outputs": [
        {
          "output_type": "execute_result",
          "data": {
            "text/plain": [
              "<matplotlib.legend.Legend at 0x7f33be02b048>"
            ]
          },
          "metadata": {
            "tags": []
          },
          "execution_count": 30
        },
        {
          "output_type": "display_data",
          "data": {
            "image/png": "[encoded data removed]",
            "text/plain": [
              "<Figure size 432x288 with 1 Axes>"
            ]
          },
          "metadata": {
            "tags": [],
            "needs_background": "light"
          }
        }
      ]
    },
    {
      "cell_type": "code",
      "metadata": {
        "id": "lNgmUCIXj8uV",
        "colab_type": "code",
        "colab": {}
      },
      "source": [
        "import tensorflow as tf \n",
        "from tensorflow import feature_column as fc \n",
        "\n",
        "numeric_column = fc.numeric_column\n",
        "categorical_column_with_vocabulary_list = fc.categorical_column_with_vocabulary_list"
      ],
      "execution_count": null,
      "outputs": []
    },
    {
      "cell_type": "code",
      "metadata": {
        "id": "muXbRSAV7OHd",
        "colab_type": "code",
        "colab": {}
      },
      "source": [
        "featcols = [\n",
        "            tf.feature_column.numeric_column(\"area\"),\n",
        "            tf.feature_column.categorical_column_with_vocabulary_list(\"type\", [\"bungalow\",\"apartment\"])\n",
        "]"
      ],
      "execution_count": null,
      "outputs": []
    },
    {
      "cell_type": "code",
      "metadata": {
        "id": "AbDE_6fp8Ako",
        "colab_type": "code",
        "colab": {}
      },
      "source": [
        "def train_input_function():\n",
        "    features = {\n",
        "        \"area\": [1000, 2000, 4000, 1000, 2000, 4000],\n",
        "        \"type\": [\"bungalow\", \"bungalow\", \"house\", \"apartment\", \"apartment\", \"apartment\"]\n",
        "    }\n",
        "    labels = [500, 1000, 1500, 700, 1300, 1900]\n",
        "    return features, labels"
      ],
      "execution_count": null,
      "outputs": []
    },
    {
      "cell_type": "code",
      "metadata": {
        "id": "l_frSU-i-jBy",
        "colab_type": "code",
        "colab": {
          "base_uri": "https://localhost:8080/",
          "height": 470
        },
        "outputId": "34b304b8-be92-4ce2-ad77-cde231486f2e"
      },
      "source": [
        "model = tf.estimator.LinearRegressor(featcols)\n",
        "model.train(train_input_function, steps=200)"
      ],
      "execution_count": null,
      "outputs": [
        {
          "output_type": "stream",
          "text": [
            "INFO:tensorflow:Using default config.\n",
            "WARNING:tensorflow:Using temporary folder as model directory: /tmp/tmpihhbbc3y\n",
            "INFO:tensorflow:Using config: {'_model_dir': '/tmp/tmpihhbbc3y', '_tf_random_seed': None, '_save_summary_steps': 100, '_save_checkpoints_steps': None, '_save_checkpoints_secs': 600, '_session_config': allow_soft_placement: true\n",
            "graph_options {\n",
            "  rewrite_options {\n",
            "    meta_optimizer_iterations: ONE\n",
            "  }\n",
            "}\n",
            ", '_keep_checkpoint_max': 5, '_keep_checkpoint_every_n_hours': 10000, '_log_step_count_steps': 100, '_train_distribute': None, '_device_fn': None, '_protocol': None, '_eval_distribute': None, '_experimental_distribute': None, '_experimental_max_worker_delay_secs': None, '_session_creation_timeout_secs': 7200, '_service': None, '_cluster_spec': ClusterSpec({}), '_task_type': 'worker', '_task_id': 0, '_global_id_in_cluster': 0, '_master': '', '_evaluation_master': '', '_is_chief': True, '_num_ps_replicas': 0, '_num_worker_replicas': 1}\n",
            "INFO:tensorflow:Calling model_fn.\n",
            "INFO:tensorflow:Done calling model_fn.\n",
            "INFO:tensorflow:Create CheckpointSaverHook.\n",
            "INFO:tensorflow:Graph was finalized.\n",
            "INFO:tensorflow:Running local_init_op.\n",
            "INFO:tensorflow:Done running local_init_op.\n",
            "INFO:tensorflow:Calling checkpoint listeners before saving checkpoint 0...\n",
            "INFO:tensorflow:Saving checkpoints for 0 into /tmp/tmpihhbbc3y/model.ckpt.\n",
            "INFO:tensorflow:Calling checkpoint listeners after saving checkpoint 0...\n",
            "INFO:tensorflow:loss = 1548333.4, step = 0\n",
            "INFO:tensorflow:global_step/sec: 1009.4\n",
            "INFO:tensorflow:loss = 54075.324, step = 100 (0.100 sec)\n",
            "INFO:tensorflow:Calling checkpoint listeners before saving checkpoint 200...\n",
            "INFO:tensorflow:Saving checkpoints for 200 into /tmp/tmpihhbbc3y/model.ckpt.\n",
            "INFO:tensorflow:Calling checkpoint listeners after saving checkpoint 200...\n",
            "INFO:tensorflow:Loss for final step: 53623.418.\n"
          ],
          "name": "stdout"
        },
        {
          "output_type": "execute_result",
          "data": {
            "text/plain": [
              "<tensorflow_estimator.python.estimator.canned.linear.LinearRegressorV2 at 0x7f33bdf898d0>"
            ]
          },
          "metadata": {
            "tags": []
          },
          "execution_count": 34
        }
      ]
    },
    {
      "cell_type": "code",
      "metadata": {
        "id": "TU9rjHm2-4oz",
        "colab_type": "code",
        "colab": {}
      },
      "source": [
        "def predict_input_function():\n",
        "    features = {\"area\":[1500, 1800],\n",
        "                \"type\":[\"house\", \"apt\"]}\n",
        "    return features"
      ],
      "execution_count": null,
      "outputs": []
    },
    {
      "cell_type": "code",
      "metadata": {
        "id": "mKWPHIYP_LVX",
        "colab_type": "code",
        "colab": {
          "base_uri": "https://localhost:8080/",
          "height": 166
        },
        "outputId": "6b9670ce-2c00-4c35-c4e6-818a5af9d939"
      },
      "source": [
        "prediction = model.predict(predict_input_function)\n",
        "print(next(prediction))\n",
        "print(next(prediction))"
      ],
      "execution_count": null,
      "outputs": [
        {
          "output_type": "stream",
          "text": [
            "WARNING:tensorflow:Input graph does not use tf.data.Dataset or contain a QueueRunner. That means predict yields forever. This is probably a mistake.\n",
            "INFO:tensorflow:Calling model_fn.\n",
            "INFO:tensorflow:Done calling model_fn.\n",
            "INFO:tensorflow:Graph was finalized.\n",
            "INFO:tensorflow:Restoring parameters from /tmp/tmpihhbbc3y/model.ckpt-200\n",
            "INFO:tensorflow:Running local_init_op.\n",
            "INFO:tensorflow:Done running local_init_op.\n",
            "{'predictions': array([692.7829], dtype=float32)}\n",
            "{'predictions': array([830.9035], dtype=float32)}\n"
          ],
          "name": "stdout"
        }
      ]
    },
    {
      "cell_type": "markdown",
      "metadata": {
        "id": "WjerimUYBJod",
        "colab_type": "text"
      },
      "source": [
        "<h1>Boston housing price dataset</h1>"
      ]
    },
    {
      "cell_type": "code",
      "metadata": {
        "id": "ak1NbuvO_YLf",
        "colab_type": "code",
        "colab": {
          "base_uri": "https://localhost:8080/",
          "height": 231
        },
        "outputId": "39a3a1bf-b3cf-4569-efaa-685f39e04b01"
      },
      "source": [
        "import tensorflow as tf \n",
        "import pandas as pd \n",
        "import tensorflow.feature_column as fc\n",
        "from tensorflow.keras.datasets import boston_housing \n",
        "\n",
        "(x_train, y_train), (x_test, y_test) =  boston_housing.load_data()\n",
        "features = [\"CRIM\",\"ZN\",\"INDUS\",\"CHAS\",\"NOX\",\"RM\",\"AGE\",\"DIS\",\"RAD\",\"TAX\",\n",
        "            \"PTRATIO\",\"B\",\"LSTAT\"]\n",
        "\n",
        "x_train_df = pd.DataFrame(x_train, columns=features)\n",
        "y_train_df = pd.DataFrame(y_train, columns=[\"MEDV\"])\n",
        "x_test_df = pd.DataFrame(x_test, columns=features)\n",
        "y_test_df = pd.DataFrame(y_test, columns=[\"MEDV\"])\n",
        "\n",
        "x_train_df.head()"
      ],
      "execution_count": null,
      "outputs": [
        {
          "output_type": "stream",
          "text": [
            "Downloading data from https://storage.googleapis.com/tensorflow/tf-keras-datasets/boston_housing.npz\n",
            "57344/57026 [==============================] - 0s 0us/step\n"
          ],
          "name": "stdout"
        },
        {
          "output_type": "execute_result",
          "data": {
            "text/html": [
              "<div>\n",
              "<style scoped>\n",
              "    .dataframe tbody tr th:only-of-type {\n",
              "        vertical-align: middle;\n",
              "    }\n",
              "\n",
              "    .dataframe tbody tr th {\n",
              "        vertical-align: top;\n",
              "    }\n",
              "\n",
              "    .dataframe thead th {\n",
              "        text-align: right;\n",
              "    }\n",
              "</style>\n",
              "<table border=\"1\" class=\"dataframe\">\n",
              "  <thead>\n",
              "    <tr style=\"text-align: right;\">\n",
              "      <th></th>\n",
              "      <th>CRIM</th>\n",
              "      <th>ZN</th>\n",
              "      <th>INDUS</th>\n",
              "      <th>CHAS</th>\n",
              "      <th>NOX</th>\n",
              "      <th>RM</th>\n",
              "      <th>AGE</th>\n",
              "      <th>DIS</th>\n",
              "      <th>RAD</th>\n",
              "      <th>TAX</th>\n",
              "      <th>PTRATIO</th>\n",
              "      <th>B</th>\n",
              "      <th>LSTAT</th>\n",
              "    </tr>\n",
              "  </thead>\n",
              "  <tbody>\n",
              "    <tr>\n",
              "      <th>0</th>\n",
              "      <td>1.23247</td>\n",
              "      <td>0.0</td>\n",
              "      <td>8.14</td>\n",
              "      <td>0.0</td>\n",
              "      <td>0.538</td>\n",
              "      <td>6.142</td>\n",
              "      <td>91.7</td>\n",
              "      <td>3.9769</td>\n",
              "      <td>4.0</td>\n",
              "      <td>307.0</td>\n",
              "      <td>21.0</td>\n",
              "      <td>396.90</td>\n",
              "      <td>18.72</td>\n",
              "    </tr>\n",
              "    <tr>\n",
              "      <th>1</th>\n",
              "      <td>0.02177</td>\n",
              "      <td>82.5</td>\n",
              "      <td>2.03</td>\n",
              "      <td>0.0</td>\n",
              "      <td>0.415</td>\n",
              "      <td>7.610</td>\n",
              "      <td>15.7</td>\n",
              "      <td>6.2700</td>\n",
              "      <td>2.0</td>\n",
              "      <td>348.0</td>\n",
              "      <td>14.7</td>\n",
              "      <td>395.38</td>\n",
              "      <td>3.11</td>\n",
              "    </tr>\n",
              "    <tr>\n",
              "      <th>2</th>\n",
              "      <td>4.89822</td>\n",
              "      <td>0.0</td>\n",
              "      <td>18.10</td>\n",
              "      <td>0.0</td>\n",
              "      <td>0.631</td>\n",
              "      <td>4.970</td>\n",
              "      <td>100.0</td>\n",
              "      <td>1.3325</td>\n",
              "      <td>24.0</td>\n",
              "      <td>666.0</td>\n",
              "      <td>20.2</td>\n",
              "      <td>375.52</td>\n",
              "      <td>3.26</td>\n",
              "    </tr>\n",
              "    <tr>\n",
              "      <th>3</th>\n",
              "      <td>0.03961</td>\n",
              "      <td>0.0</td>\n",
              "      <td>5.19</td>\n",
              "      <td>0.0</td>\n",
              "      <td>0.515</td>\n",
              "      <td>6.037</td>\n",
              "      <td>34.5</td>\n",
              "      <td>5.9853</td>\n",
              "      <td>5.0</td>\n",
              "      <td>224.0</td>\n",
              "      <td>20.2</td>\n",
              "      <td>396.90</td>\n",
              "      <td>8.01</td>\n",
              "    </tr>\n",
              "    <tr>\n",
              "      <th>4</th>\n",
              "      <td>3.69311</td>\n",
              "      <td>0.0</td>\n",
              "      <td>18.10</td>\n",
              "      <td>0.0</td>\n",
              "      <td>0.713</td>\n",
              "      <td>6.376</td>\n",
              "      <td>88.4</td>\n",
              "      <td>2.5671</td>\n",
              "      <td>24.0</td>\n",
              "      <td>666.0</td>\n",
              "      <td>20.2</td>\n",
              "      <td>391.43</td>\n",
              "      <td>14.65</td>\n",
              "    </tr>\n",
              "  </tbody>\n",
              "</table>\n",
              "</div>"
            ],
            "text/plain": [
              "      CRIM    ZN  INDUS  CHAS    NOX  ...   RAD    TAX  PTRATIO       B  LSTAT\n",
              "0  1.23247   0.0   8.14   0.0  0.538  ...   4.0  307.0     21.0  396.90  18.72\n",
              "1  0.02177  82.5   2.03   0.0  0.415  ...   2.0  348.0     14.7  395.38   3.11\n",
              "2  4.89822   0.0  18.10   0.0  0.631  ...  24.0  666.0     20.2  375.52   3.26\n",
              "3  0.03961   0.0   5.19   0.0  0.515  ...   5.0  224.0     20.2  396.90   8.01\n",
              "4  3.69311   0.0  18.10   0.0  0.713  ...  24.0  666.0     20.2  391.43  14.65\n",
              "\n",
              "[5 rows x 13 columns]"
            ]
          },
          "metadata": {
            "tags": []
          },
          "execution_count": 37
        }
      ]
    },
    {
      "cell_type": "code",
      "metadata": {
        "id": "bf5BschDBeie",
        "colab_type": "code",
        "colab": {}
      },
      "source": [
        "features_columns = []\n",
        "for feature_name in features:\n",
        "    features_columns.append(fc.numeric_column(feature_name, dtype=tf.float32))"
      ],
      "execution_count": null,
      "outputs": []
    },
    {
      "cell_type": "code",
      "metadata": {
        "id": "lqi191ObGuC8",
        "colab_type": "code",
        "colab": {}
      },
      "source": [
        "def estimator_input(df_data, df_labels, batch_size=32, shuffle=True, epochs=10):\n",
        "    def input_data_fn():\n",
        "        ds = tf.data.Dataset.from_tensor_slices((dict(df_data), df_labels))\n",
        "        if shuffle:\n",
        "            ds = ds.shuffle(100)\n",
        "        ds = ds.batch(batch_size).repeat(epochs)\n",
        "        return ds\n",
        "    return input_data_fn"
      ],
      "execution_count": null,
      "outputs": []
    },
    {
      "cell_type": "code",
      "metadata": {
        "id": "CXnCqGg4HQQP",
        "colab_type": "code",
        "colab": {
          "base_uri": "https://localhost:8080/",
          "height": 520
        },
        "outputId": "d5373c52-8d99-42b4-f375-d3689e7a8a07"
      },
      "source": [
        "train_input_fn = estimator_input(x_train_df, y_train_df)\n",
        "test_input_fn = estimator_input(x_test_df, y_test_df, epochs=1, shuffle=False)\n",
        "\n",
        "linear_estimator = tf.estimator.LinearRegressor(features_columns,\n",
        "                                                model_dir = '/content/logs/func/')\n",
        "linear_estimator.train(train_input_fn,steps=100)\n"
      ],
      "execution_count": null,
      "outputs": [
        {
          "output_type": "stream",
          "text": [
            "INFO:tensorflow:Using default config.\n",
            "INFO:tensorflow:Using config: {'_model_dir': '/content/logs/func/', '_tf_random_seed': None, '_save_summary_steps': 100, '_save_checkpoints_steps': None, '_save_checkpoints_secs': 600, '_session_config': allow_soft_placement: true\n",
            "graph_options {\n",
            "  rewrite_options {\n",
            "    meta_optimizer_iterations: ONE\n",
            "  }\n",
            "}\n",
            ", '_keep_checkpoint_max': 5, '_keep_checkpoint_every_n_hours': 10000, '_log_step_count_steps': 100, '_train_distribute': None, '_device_fn': None, '_protocol': None, '_eval_distribute': None, '_experimental_distribute': None, '_experimental_max_worker_delay_secs': None, '_session_creation_timeout_secs': 7200, '_service': None, '_cluster_spec': ClusterSpec({}), '_task_type': 'worker', '_task_id': 0, '_global_id_in_cluster': 0, '_master': '', '_evaluation_master': '', '_is_chief': True, '_num_ps_replicas': 0, '_num_worker_replicas': 1}\n",
            "INFO:tensorflow:Calling model_fn.\n",
            "WARNING:tensorflow:Layer linear/linear_model is casting an input tensor from dtype float64 to the layer's dtype of float32, which is new behavior in TensorFlow 2.  The layer has dtype float32 because its dtype defaults to floatx.\n",
            "\n",
            "If you intended to run this layer in float32, you can safely ignore this warning. If in doubt, this warning is likely only an issue if you are porting a TensorFlow 1.X model to TensorFlow 2.\n",
            "\n",
            "To change all layers to have dtype float64 by default, call `tf.keras.backend.set_floatx('float64')`. To change just this layer, pass dtype='float64' to the layer constructor. If you are the author of this layer, you can disable autocasting by passing autocast=False to the base Layer constructor.\n",
            "\n",
            "INFO:tensorflow:Done calling model_fn.\n",
            "INFO:tensorflow:Create CheckpointSaverHook.\n",
            "INFO:tensorflow:Graph was finalized.\n",
            "INFO:tensorflow:Running local_init_op.\n",
            "INFO:tensorflow:Done running local_init_op.\n",
            "INFO:tensorflow:Calling checkpoint listeners before saving checkpoint 0...\n",
            "INFO:tensorflow:Saving checkpoints for 0 into /content/logs/func/model.ckpt.\n",
            "INFO:tensorflow:Calling checkpoint listeners after saving checkpoint 0...\n",
            "INFO:tensorflow:loss = 682.68567, step = 0\n",
            "INFO:tensorflow:Calling checkpoint listeners before saving checkpoint 100...\n",
            "INFO:tensorflow:Saving checkpoints for 100 into /content/logs/func/model.ckpt.\n",
            "INFO:tensorflow:Calling checkpoint listeners after saving checkpoint 100...\n",
            "INFO:tensorflow:Loss for final step: 76.81027.\n"
          ],
          "name": "stdout"
        },
        {
          "output_type": "execute_result",
          "data": {
            "text/plain": [
              "<tensorflow_estimator.python.estimator.canned.linear.LinearRegressorV2 at 0x7f33bd595630>"
            ]
          },
          "metadata": {
            "tags": []
          },
          "execution_count": 40
        }
      ]
    },
    {
      "cell_type": "code",
      "metadata": {
        "id": "SGaZufGRIea0",
        "colab_type": "code",
        "colab": {
          "base_uri": "https://localhost:8080/",
          "height": 770
        },
        "outputId": "6295a919-7b1f-46c8-a4c1-04524baf6de0"
      },
      "source": [
        "result = linear_estimator.predict(test_input_fn)\n",
        "for pred, exp in zip(result, y_test[:32]):\n",
        "    print(f\"prediction: {pred['predictions'][0]}, true value: {exp}\")\n",
        "    # print(\"\\n****************************************\\n\")"
      ],
      "execution_count": null,
      "outputs": [
        {
          "output_type": "stream",
          "text": [
            "INFO:tensorflow:Calling model_fn.\n",
            "WARNING:tensorflow:Layer linear/linear_model is casting an input tensor from dtype float64 to the layer's dtype of float32, which is new behavior in TensorFlow 2.  The layer has dtype float32 because its dtype defaults to floatx.\n",
            "\n",
            "If you intended to run this layer in float32, you can safely ignore this warning. If in doubt, this warning is likely only an issue if you are porting a TensorFlow 1.X model to TensorFlow 2.\n",
            "\n",
            "To change all layers to have dtype float64 by default, call `tf.keras.backend.set_floatx('float64')`. To change just this layer, pass dtype='float64' to the layer constructor. If you are the author of this layer, you can disable autocasting by passing autocast=False to the base Layer constructor.\n",
            "\n",
            "INFO:tensorflow:Done calling model_fn.\n",
            "INFO:tensorflow:Graph was finalized.\n",
            "INFO:tensorflow:Restoring parameters from /content/logs/func/model.ckpt-100\n",
            "INFO:tensorflow:Running local_init_op.\n",
            "INFO:tensorflow:Done running local_init_op.\n",
            "prediction: 2.24141001701355, true value: 7.2\n",
            "prediction: 21.478092193603516, true value: 18.8\n",
            "prediction: 20.495332717895508, true value: 19.0\n",
            "prediction: 21.530052185058594, true value: 27.0\n",
            "prediction: 21.05384063720703, true value: 22.2\n",
            "prediction: 19.92933464050293, true value: 24.5\n",
            "prediction: 27.42833137512207, true value: 31.2\n",
            "prediction: 23.816041946411133, true value: 22.9\n",
            "prediction: 19.2639217376709, true value: 20.5\n",
            "prediction: 21.241241455078125, true value: 23.2\n",
            "prediction: 8.036758422851562, true value: 18.6\n",
            "prediction: 21.311508178710938, true value: 14.5\n",
            "prediction: 21.19135856628418, true value: 17.8\n",
            "prediction: 21.53038787841797, true value: 50.0\n",
            "prediction: 16.252382278442383, true value: 20.8\n",
            "prediction: 22.961755752563477, true value: 24.3\n",
            "prediction: 19.02436637878418, true value: 24.2\n",
            "prediction: 19.533092498779297, true value: 19.8\n",
            "prediction: 21.07431411743164, true value: 19.1\n",
            "prediction: 23.331607818603516, true value: 22.7\n",
            "prediction: 17.06788444519043, true value: 12.0\n",
            "prediction: 3.224336862564087, true value: 10.2\n",
            "prediction: 19.996259689331055, true value: 20.0\n",
            "prediction: 22.74041175842285, true value: 18.5\n",
            "prediction: 29.437580108642578, true value: 20.9\n",
            "prediction: 21.341495513916016, true value: 23.0\n",
            "prediction: 22.925025939941406, true value: 27.5\n",
            "prediction: 31.538270950317383, true value: 30.1\n",
            "prediction: 5.256136894226074, true value: 9.5\n",
            "prediction: 21.685020446777344, true value: 22.0\n",
            "prediction: 21.33873748779297, true value: 21.2\n",
            "prediction: 6.811605453491211, true value: 14.1\n"
          ],
          "name": "stdout"
        }
      ]
    },
    {
      "cell_type": "code",
      "metadata": {
        "id": "4fTeMvgnLK_H",
        "colab_type": "code",
        "colab": {}
      },
      "source": [
        "%load_ext tensorboard\n",
        "%tensorboard --logdir /content/logs/func"
      ],
      "execution_count": null,
      "outputs": []
    },
    {
      "cell_type": "markdown",
      "metadata": {
        "id": "HnEr0slSViyZ",
        "colab_type": "text"
      },
      "source": [
        "<h1>MNIST</h1>"
      ]
    },
    {
      "cell_type": "code",
      "metadata": {
        "id": "z87BalUuOW3C",
        "colab_type": "code",
        "colab": {
          "base_uri": "https://localhost:8080/",
          "height": 33
        },
        "outputId": "a30a52f7-7bb8-4a2b-d1c3-355ba6606a1e"
      },
      "source": [
        "import tensorflow as tf \n",
        "from tensorflow import keras\n",
        "import matplotlib.pyplot as plt\n",
        "import numpy as np \n",
        "print(tf.__version__)"
      ],
      "execution_count": 10,
      "outputs": [
        {
          "output_type": "stream",
          "text": [
            "2.3.0\n"
          ],
          "name": "stdout"
        }
      ]
    },
    {
      "cell_type": "code",
      "metadata": {
        "id": "Due02huyV0TL",
        "colab_type": "code",
        "colab": {}
      },
      "source": [
        "(train_data, train_labels), (test_data, test_labels) = keras.datasets.mnist.load_data()\n",
        "\n",
        "train_data = train_data/np.float32(255)\n",
        "train_labels = train_labels.astype(np.int32)\n",
        "test_data = test_data/np.float32(255)\n",
        "test_labels = test_labels.astype(np.int32)\n"
      ],
      "execution_count": 11,
      "outputs": []
    },
    {
      "cell_type": "code",
      "metadata": {
        "id": "MEObS3sCWdZK",
        "colab_type": "code",
        "colab": {
          "base_uri": "https://localhost:8080/",
          "height": 170
        },
        "outputId": "58c05c52-410e-4736-b56e-9baef3e7064a"
      },
      "source": [
        "feature_columns = [tf.feature_column.numeric_column(\"x\", shape=[28, 28])]\n",
        "\n",
        "train_input_fn = tf.compat.v1.estimator.inputs.numpy_input_fn({\"x\":train_data}, \n",
        "                                                              train_labels, \n",
        "                                                              batch_size=32, \n",
        "                                                              num_epochs=None, \n",
        "                                                              shuffle=True) \n",
        "\n",
        "test_input_fn = tf.compat.v1.estimator.inputs.numpy_input_fn({\"x\": test_data}, \n",
        "                                                              test_labels, \n",
        "                                                              batch_size=32, \n",
        "                                                              num_epochs=None,\n",
        "                                                              shuffle=False)\n",
        "\n",
        "classifier = tf.estimator.LinearClassifier(feature_columns=feature_columns,\n",
        "                                           n_classes=10,\n",
        "                                           model_dir=\"/content/log/mnist\")\n",
        "\n"
      ],
      "execution_count": 12,
      "outputs": [
        {
          "output_type": "stream",
          "text": [
            "INFO:tensorflow:Using default config.\n",
            "INFO:tensorflow:Using config: {'_model_dir': '/content/log/mnist', '_tf_random_seed': None, '_save_summary_steps': 100, '_save_checkpoints_steps': None, '_save_checkpoints_secs': 600, '_session_config': allow_soft_placement: true\n",
            "graph_options {\n",
            "  rewrite_options {\n",
            "    meta_optimizer_iterations: ONE\n",
            "  }\n",
            "}\n",
            ", '_keep_checkpoint_max': 5, '_keep_checkpoint_every_n_hours': 10000, '_log_step_count_steps': 100, '_train_distribute': None, '_device_fn': None, '_protocol': None, '_eval_distribute': None, '_experimental_distribute': None, '_experimental_max_worker_delay_secs': None, '_session_creation_timeout_secs': 7200, '_service': None, '_cluster_spec': ClusterSpec({}), '_task_type': 'worker', '_task_id': 0, '_global_id_in_cluster': 0, '_master': '', '_evaluation_master': '', '_is_chief': True, '_num_ps_replicas': 0, '_num_worker_replicas': 1}\n"
          ],
          "name": "stdout"
        }
      ]
    },
    {
      "cell_type": "code",
      "metadata": {
        "id": "FSxWAf3FafBy",
        "colab_type": "code",
        "colab": {
          "base_uri": "https://localhost:8080/",
          "height": 353
        },
        "outputId": "96663448-9282-47b4-9a1c-9f8e995ae9be"
      },
      "source": [
        "classifier.train(input_fn=train_input_fn, steps=10)"
      ],
      "execution_count": 13,
      "outputs": [
        {
          "output_type": "stream",
          "text": [
            "INFO:tensorflow:Calling model_fn.\n",
            "INFO:tensorflow:Done calling model_fn.\n",
            "INFO:tensorflow:Create CheckpointSaverHook.\n",
            "INFO:tensorflow:Graph was finalized.\n",
            "INFO:tensorflow:Restoring parameters from /content/log/mnist/model.ckpt-10\n",
            "WARNING:tensorflow:From /usr/local/lib/python3.6/dist-packages/tensorflow/python/training/saver.py:1077: get_checkpoint_mtimes (from tensorflow.python.training.checkpoint_management) is deprecated and will be removed in a future version.\n",
            "Instructions for updating:\n",
            "Use standard file utilities to get mtimes.\n",
            "INFO:tensorflow:Running local_init_op.\n",
            "INFO:tensorflow:Done running local_init_op.\n",
            "INFO:tensorflow:Calling checkpoint listeners before saving checkpoint 10...\n",
            "INFO:tensorflow:Saving checkpoints for 10 into /content/log/mnist/model.ckpt.\n",
            "INFO:tensorflow:Calling checkpoint listeners after saving checkpoint 10...\n",
            "INFO:tensorflow:loss = 1.7798452, step = 10\n",
            "INFO:tensorflow:Calling checkpoint listeners before saving checkpoint 20...\n",
            "INFO:tensorflow:Saving checkpoints for 20 into /content/log/mnist/model.ckpt.\n",
            "INFO:tensorflow:Calling checkpoint listeners after saving checkpoint 20...\n",
            "INFO:tensorflow:Loss for final step: 0.84493935.\n"
          ],
          "name": "stdout"
        },
        {
          "output_type": "execute_result",
          "data": {
            "text/plain": [
              "<tensorflow_estimator.python.estimator.canned.linear.LinearClassifierV2 at 0x7ff8cde179b0>"
            ]
          },
          "metadata": {
            "tags": []
          },
          "execution_count": 13
        }
      ]
    },
    {
      "cell_type": "code",
      "metadata": {
        "id": "nXrvkz6_a9--",
        "colab_type": "code",
        "colab": {
          "base_uri": "https://localhost:8080/",
          "height": 383
        },
        "outputId": "e7194260-cdda-4d25-fb2b-617044e2787b"
      },
      "source": [
        "results = classifier.evaluate(input_fn=test_input_fn, steps=10)\n",
        "print(results)"
      ],
      "execution_count": 14,
      "outputs": [
        {
          "output_type": "stream",
          "text": [
            "INFO:tensorflow:Calling model_fn.\n",
            "INFO:tensorflow:Done calling model_fn.\n",
            "INFO:tensorflow:Starting evaluation at 2020-09-22T11:19:42Z\n",
            "INFO:tensorflow:Graph was finalized.\n",
            "INFO:tensorflow:Restoring parameters from /content/log/mnist/model.ckpt-20\n",
            "INFO:tensorflow:Running local_init_op.\n",
            "INFO:tensorflow:Done running local_init_op.\n",
            "INFO:tensorflow:Evaluation [1/10]\n",
            "INFO:tensorflow:Evaluation [2/10]\n",
            "INFO:tensorflow:Evaluation [3/10]\n",
            "INFO:tensorflow:Evaluation [4/10]\n",
            "INFO:tensorflow:Evaluation [5/10]\n",
            "INFO:tensorflow:Evaluation [6/10]\n",
            "INFO:tensorflow:Evaluation [7/10]\n",
            "INFO:tensorflow:Evaluation [8/10]\n",
            "INFO:tensorflow:Evaluation [9/10]\n",
            "INFO:tensorflow:Evaluation [10/10]\n",
            "INFO:tensorflow:Inference Time : 0.14060s\n",
            "INFO:tensorflow:Finished evaluation at 2020-09-22-11:19:43\n",
            "INFO:tensorflow:Saving dict for global step 20: accuracy = 0.81875, average_loss = 0.64518625, global_step = 20, loss = 0.64518625\n",
            "INFO:tensorflow:Saving 'checkpoint_path' summary for global step 20: /content/log/mnist/model.ckpt-20\n",
            "{'accuracy': 0.81875, 'average_loss': 0.64518625, 'loss': 0.64518625, 'global_step': 20}\n"
          ],
          "name": "stdout"
        }
      ]
    },
    {
      "cell_type": "code",
      "metadata": {
        "id": "DxM3KgaPfhG-",
        "colab_type": "code",
        "colab": {}
      },
      "source": [
        "%load_ext tensorboard\n",
        "%tensorboard --logdir /content/logs/mnist"
      ],
      "execution_count": null,
      "outputs": []
    }
  ]
}