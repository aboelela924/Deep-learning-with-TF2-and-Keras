{
  "nbformat": 4,
  "nbformat_minor": 0,
  "metadata": {
    "colab": {
      "name": "Deep learning with TF2  and Keras chapter 01.ipynb",
      "provenance": [],
      "authorship_tag": "ABX9TyPOk/uedUJokLzX/5s56Tsn",
      "include_colab_link": true
    },
    "kernelspec": {
      "name": "python3",
      "display_name": "Python 3"
    },
    "accelerator": "GPU"
  },
  "cells": [
    {
      "cell_type": "markdown",
      "metadata": {
        "id": "view-in-github",
        "colab_type": "text"
      },
      "source": [
        "<a href=\"https://colab.research.google.com/github/aboelela924/Deep-learning-with-TF2-and-Keras/blob/master/Deep_learning_with_TF2_and_Keras_chapter_01.ipynb\" target=\"_parent\"><img src=\"https://colab.research.google.com/assets/colab-badge.svg\" alt=\"Open In Colab\"/></a>"
      ]
    },
    {
      "cell_type": "code",
      "metadata": {
        "id": "6IRozQIZWC2u",
        "colab_type": "code",
        "colab": {}
      },
      "source": [
        "import tensorflow as tf \n",
        "from tensorflow import keras \n",
        "\n",
        "NB_CLASSES = 10\n",
        "RESHAPED = 784\n",
        "\n",
        "model = tf.keras.models.Sequential()\n",
        "model.add(keras.layers.Dense(RESHAPED, input_shape=(NB_CLASSES,), \n",
        "                             kernel_initializer=\"zeros\", name=\"dense_layer\", \n",
        "                             activation=\"softmax\"))\n",
        "\n"
      ],
      "execution_count": null,
      "outputs": []
    },
    {
      "cell_type": "code",
      "metadata": {
        "id": "NIhsVoRpXLSX",
        "colab_type": "code",
        "colab": {}
      },
      "source": [
        "import tensorflow as tf \n",
        "import numpy as np \n",
        "from tensorflow import keras"
      ],
      "execution_count": 1,
      "outputs": []
    },
    {
      "cell_type": "code",
      "metadata": {
        "id": "v60Ub1H0buBo",
        "colab_type": "code",
        "colab": {}
      },
      "source": [
        "EPOCHS = 200\n",
        "BATCH_SIZE = 128\n",
        "N_HIDDEN = 128\n",
        "NB_CLASSES = 10\n",
        "VERBOSE = 1\n",
        "VALIDATION_SPLIT = 0.2"
      ],
      "execution_count": 2,
      "outputs": []
    },
    {
      "cell_type": "code",
      "metadata": {
        "id": "JtLZbIlpSLHf",
        "colab_type": "code",
        "colab": {
          "base_uri": "https://localhost:8080/",
          "height": 50
        },
        "outputId": "56151de2-bd4a-4af9-d3eb-9c23cdf97952"
      },
      "source": [
        "(x_train, y_train), (x_test, y_test) = keras.datasets.mnist.load_data()"
      ],
      "execution_count": 3,
      "outputs": [
        {
          "output_type": "stream",
          "text": [
            "Downloading data from https://storage.googleapis.com/tensorflow/tf-keras-datasets/mnist.npz\n",
            "11493376/11490434 [==============================] - 0s 0us/step\n"
          ],
          "name": "stdout"
        }
      ]
    },
    {
      "cell_type": "code",
      "metadata": {
        "id": "1R78OLBmXPqO",
        "colab_type": "code",
        "colab": {}
      },
      "source": [
        "RESHAPED = x_train.shape[1] * x_train.shape[2] "
      ],
      "execution_count": 44,
      "outputs": []
    },
    {
      "cell_type": "code",
      "metadata": {
        "id": "bE8lXIvsYTMj",
        "colab_type": "code",
        "colab": {}
      },
      "source": [
        "x_train = x_train.reshape(x_train.shape[0], RESHAPED)\n",
        "x_test = x_test.reshape(x_test.shape[0], RESHAPED)\n",
        "\n",
        "x_train = x_train.astype(\"float32\")\n",
        "x_test = x_test.astype(\"float32\")\n",
        "\n",
        "x_train /= 255.0\n",
        "x_test /= 255.0"
      ],
      "execution_count": 45,
      "outputs": []
    },
    {
      "cell_type": "code",
      "metadata": {
        "id": "zrZ9gNwtY1Vi",
        "colab_type": "code",
        "colab": {}
      },
      "source": [
        "y_train = tf.keras.utils.to_categorical(y_train, NB_CLASSES)\n",
        "y_test = tf.keras.utils.to_categorical(y_test, NB_CLASSES)"
      ],
      "execution_count": 46,
      "outputs": []
    },
    {
      "cell_type": "code",
      "metadata": {
        "id": "nHMYJCTCZeMu",
        "colab_type": "code",
        "colab": {}
      },
      "source": [
        "model = keras.Sequential()\n",
        "model.add(keras.layers.Dense(NB_CLASSES, input_shape=(RESHAPED, ), \n",
        "                             activation=\"softmax\",\n",
        "                             name=\"DenseLayer\"))"
      ],
      "execution_count": 47,
      "outputs": []
    },
    {
      "cell_type": "code",
      "metadata": {
        "id": "a9QI01UDaNrZ",
        "colab_type": "code",
        "colab": {
          "base_uri": "https://localhost:8080/",
          "height": 183
        },
        "outputId": "3a47bb13-5c17-4275-ead7-34a9abbe630e"
      },
      "source": [
        "model.compile(optimizer=\"SGD\", loss=\"categorical_crossentropy\", metrics=[\"accuracy\"])\n",
        "model.summary()"
      ],
      "execution_count": 48,
      "outputs": [
        {
          "output_type": "stream",
          "text": [
            "Model: \"sequential_6\"\n",
            "_________________________________________________________________\n",
            "Layer (type)                 Output Shape              Param #   \n",
            "=================================================================\n",
            "DenseLayer (Dense)           (None, 10)                7850      \n",
            "=================================================================\n",
            "Total params: 7,850\n",
            "Trainable params: 7,850\n",
            "Non-trainable params: 0\n",
            "_________________________________________________________________\n"
          ],
          "name": "stdout"
        }
      ]
    },
    {
      "cell_type": "code",
      "metadata": {
        "id": "qeeNOxKyaxL6",
        "colab_type": "code",
        "colab": {}
      },
      "source": [
        "model.fit(x_train, y_train, batch_size=BATCH_SIZE, epochs=EPOCHS, \n",
        "          verbose=VERBOSE, validation_split=VALIDATION_SPLIT)"
      ],
      "execution_count": null,
      "outputs": []
    },
    {
      "cell_type": "code",
      "metadata": {
        "id": "jB6EVWlnjfP7",
        "colab_type": "code",
        "colab": {
          "base_uri": "https://localhost:8080/",
          "height": 50
        },
        "outputId": "7bd85f7b-73f4-4f78-f358-75c772120be8"
      },
      "source": [
        "model.evaluate(x_test, y_test, batch_size=BATCH_SIZE, verbose=VERBOSE)"
      ],
      "execution_count": 50,
      "outputs": [
        {
          "output_type": "stream",
          "text": [
            "79/79 [==============================] - 0s 1ms/step - loss: 0.2774 - accuracy: 0.9212\n"
          ],
          "name": "stdout"
        },
        {
          "output_type": "execute_result",
          "data": {
            "text/plain": [
              "[0.2774295210838318, 0.9211999773979187]"
            ]
          },
          "metadata": {
            "tags": []
          },
          "execution_count": 50
        }
      ]
    },
    {
      "cell_type": "markdown",
      "metadata": {
        "id": "0vxuzr1vjHkl",
        "colab_type": "text"
      },
      "source": [
        "<h1>Imporoved Network</h>"
      ]
    },
    {
      "cell_type": "code",
      "metadata": {
        "id": "ZEpToCT8imOV",
        "colab_type": "code",
        "colab": {
          "base_uri": "https://localhost:8080/",
          "height": 250
        },
        "outputId": "d251be6d-3f43-446c-99df-02a4dfcdcfca"
      },
      "source": [
        "import tensorflow as tf \n",
        "import numpy as np \n",
        "from tensorflow import keras\n",
        "\n",
        "EPOCHS = 200\n",
        "BATCH_SIZE = 128\n",
        "N_HIDDEN = 128\n",
        "NB_CLASSES = 10\n",
        "VERBOSE = 1\n",
        "VALIDATION_SPLIT = 0.2\n",
        "\n",
        "(x_train, y_train), (x_test, y_test) = keras.datasets.mnist.load_data()\n",
        "\n",
        "RESHAPED = x_train.shape[1] * x_train.shape[2] \n",
        "\n",
        "x_train = x_train.reshape(x_train.shape[0], RESHAPED)\n",
        "x_test = x_test.reshape(x_test.shape[0], RESHAPED)\n",
        "\n",
        "x_train = x_train.astype(\"float32\")\n",
        "x_test = x_test.astype(\"float32\")\n",
        "\n",
        "x_train /= 255.0\n",
        "x_test /= 255.0\n",
        "\n",
        "y_train = tf.keras.utils.to_categorical(y_train, NB_CLASSES)\n",
        "y_test = tf.keras.utils.to_categorical(y_test, NB_CLASSES)\n",
        "\n",
        "\n",
        "model = keras.Sequential()\n",
        "model.add(keras.layers.Dense(N_HIDDEN, input_shape=(RESHAPED, ), \n",
        "                             activation=\"relu\",\n",
        "                             name=\"DenseLayer1\"))\n",
        "model.add(keras.layers.Dense(N_HIDDEN, \n",
        "                             activation=\"relu\",\n",
        "                             name=\"DenseLayer2\"))\n",
        "model.add(keras.layers.Dense(NB_CLASSES, \n",
        "                             activation=\"softmax\",\n",
        "                             name=\"DenseLayer3\"))\n",
        "\n",
        "model.compile(optimizer=\"SGD\", loss=\"categorical_crossentropy\", metrics=[\"accuracy\"])\n",
        "model.summary()"
      ],
      "execution_count": 51,
      "outputs": [
        {
          "output_type": "stream",
          "text": [
            "Model: \"sequential_7\"\n",
            "_________________________________________________________________\n",
            "Layer (type)                 Output Shape              Param #   \n",
            "=================================================================\n",
            "DenseLayer1 (Dense)          (None, 128)               100480    \n",
            "_________________________________________________________________\n",
            "DenseLayer2 (Dense)          (None, 128)               16512     \n",
            "_________________________________________________________________\n",
            "DenseLayer3 (Dense)          (None, 10)                1290      \n",
            "=================================================================\n",
            "Total params: 118,282\n",
            "Trainable params: 118,282\n",
            "Non-trainable params: 0\n",
            "_________________________________________________________________\n"
          ],
          "name": "stdout"
        }
      ]
    },
    {
      "cell_type": "code",
      "metadata": {
        "id": "7U6EjJbjjbg_",
        "colab_type": "code",
        "colab": {}
      },
      "source": [
        "model.fit(x_train, y_train, batch_size=BATCH_SIZE, epochs=EPOCHS, \n",
        "          verbose=VERBOSE, validation_split=VALIDATION_SPLIT)"
      ],
      "execution_count": null,
      "outputs": []
    },
    {
      "cell_type": "code",
      "metadata": {
        "id": "ORlfoeLOmBMC",
        "colab_type": "code",
        "colab": {
          "base_uri": "https://localhost:8080/",
          "height": 50
        },
        "outputId": "b51cbff7-1208-4ad4-98f8-70feb4996cb6"
      },
      "source": [
        "model.evaluate(x_test, y_test, batch_size=BATCH_SIZE, \n",
        "               verbose=VERBOSE)"
      ],
      "execution_count": 54,
      "outputs": [
        {
          "output_type": "stream",
          "text": [
            "79/79 [==============================] - 0s 2ms/step - loss: 0.0824 - accuracy: 0.9759\n"
          ],
          "name": "stdout"
        },
        {
          "output_type": "execute_result",
          "data": {
            "text/plain": [
              "[0.0823986753821373, 0.9758999943733215]"
            ]
          },
          "metadata": {
            "tags": []
          },
          "execution_count": 54
        }
      ]
    },
    {
      "cell_type": "markdown",
      "metadata": {
        "id": "x84TAWdbphiI",
        "colab_type": "text"
      },
      "source": [
        "<h1>Adding Dropout</h1>"
      ]
    },
    {
      "cell_type": "code",
      "metadata": {
        "id": "d3CmF0chpvta",
        "colab_type": "code",
        "colab": {}
      },
      "source": [
        "DROPOUT = 0.3"
      ],
      "execution_count": 4,
      "outputs": []
    },
    {
      "cell_type": "code",
      "metadata": {
        "id": "0sQPa4R7mJZz",
        "colab_type": "code",
        "colab": {
          "base_uri": "https://localhost:8080/",
          "height": 316
        },
        "outputId": "818d11e4-ce27-421f-a525-856f40a3ce8a"
      },
      "source": [
        "import tensorflow as tf \n",
        "import numpy as np \n",
        "from tensorflow import keras\n",
        "\n",
        "EPOCHS = 200\n",
        "BATCH_SIZE = 128\n",
        "N_HIDDEN = 128\n",
        "NB_CLASSES = 10\n",
        "VERBOSE = 1\n",
        "VALIDATION_SPLIT = 0.2\n",
        "\n",
        "(x_train, y_train), (x_test, y_test) = keras.datasets.mnist.load_data()\n",
        "\n",
        "RESHAPED = x_train.shape[1] * x_train.shape[2] \n",
        "\n",
        "x_train = x_train.reshape(x_train.shape[0], RESHAPED)\n",
        "x_test = x_test.reshape(x_test.shape[0], RESHAPED)\n",
        "\n",
        "x_train = x_train.astype(\"float32\")\n",
        "x_test = x_test.astype(\"float32\")\n",
        "\n",
        "x_train /= 255.0\n",
        "x_test /= 255.0\n",
        "\n",
        "y_train = tf.keras.utils.to_categorical(y_train, NB_CLASSES)\n",
        "y_test = tf.keras.utils.to_categorical(y_test, NB_CLASSES)\n",
        "\n",
        "\n",
        "model = keras.Sequential()\n",
        "\n",
        "model.add(keras.layers.Dense(N_HIDDEN, input_shape=(RESHAPED, ), \n",
        "                             activation=\"relu\",\n",
        "                             name=\"DenseLayer1\"))\n",
        "\n",
        "model.add(keras.layers.Dropout(DROPOUT))\n",
        "\n",
        "model.add(keras.layers.Dense(N_HIDDEN, \n",
        "                             activation=\"relu\",\n",
        "                             name=\"DenseLayer2\"))\n",
        "\n",
        "model.add(keras.layers.Dropout(DROPOUT))\n",
        "\n",
        "model.add(keras.layers.Dense(NB_CLASSES, \n",
        "                             activation=\"softmax\",\n",
        "                             name=\"DenseLayer3\"))\n",
        "\n",
        "model.compile(optimizer=\"SGD\", loss=\"categorical_crossentropy\", metrics=[\"accuracy\"])\n",
        "model.summary()"
      ],
      "execution_count": 6,
      "outputs": [
        {
          "output_type": "stream",
          "text": [
            "Model: \"sequential_1\"\n",
            "_________________________________________________________________\n",
            "Layer (type)                 Output Shape              Param #   \n",
            "=================================================================\n",
            "DenseLayer1 (Dense)          (None, 128)               100480    \n",
            "_________________________________________________________________\n",
            "dropout_1 (Dropout)          (None, 128)               0         \n",
            "_________________________________________________________________\n",
            "DenseLayer2 (Dense)          (None, 128)               16512     \n",
            "_________________________________________________________________\n",
            "dropout_2 (Dropout)          (None, 128)               0         \n",
            "_________________________________________________________________\n",
            "DenseLayer3 (Dense)          (None, 10)                1290      \n",
            "=================================================================\n",
            "Total params: 118,282\n",
            "Trainable params: 118,282\n",
            "Non-trainable params: 0\n",
            "_________________________________________________________________\n"
          ],
          "name": "stdout"
        }
      ]
    },
    {
      "cell_type": "code",
      "metadata": {
        "id": "M8XqRdPYpnz-",
        "colab_type": "code",
        "colab": {}
      },
      "source": [
        "model.fit(x_train, y_train, batch_size=BATCH_SIZE, epochs=EPOCHS, \n",
        "          verbose=VERBOSE, validation_split=VALIDATION_SPLIT)"
      ],
      "execution_count": null,
      "outputs": []
    },
    {
      "cell_type": "code",
      "metadata": {
        "id": "Dy_mi6EVpoJ3",
        "colab_type": "code",
        "colab": {
          "base_uri": "https://localhost:8080/",
          "height": 50
        },
        "outputId": "6bfa1cc3-44ac-4255-d2d1-244293009478"
      },
      "source": [
        "test_loss, test_acc  = model.evaluate(x_test, y_test)\n",
        "print(f\"Test Accuracy: {round(test_acc*100, 4)}%\")"
      ],
      "execution_count": 9,
      "outputs": [
        {
          "output_type": "stream",
          "text": [
            "313/313 [==============================] - 1s 2ms/step - loss: 0.0748 - accuracy: 0.9779\n",
            "Test Accuracy: 97.79%\n"
          ],
          "name": "stdout"
        }
      ]
    },
    {
      "cell_type": "markdown",
      "metadata": {
        "id": "b2a9SIpftthe",
        "colab_type": "text"
      },
      "source": [
        "<h1>RMSProp</h1>"
      ]
    },
    {
      "cell_type": "code",
      "metadata": {
        "id": "8HeUeniotxga",
        "colab_type": "code",
        "colab": {
          "base_uri": "https://localhost:8080/",
          "height": 316
        },
        "outputId": "d214ade9-dcc5-4c15-d86d-46bf17fdbfda"
      },
      "source": [
        "import tensorflow as tf \n",
        "import numpy as np \n",
        "from tensorflow import keras\n",
        "\n",
        "EPOCHS = 200\n",
        "BATCH_SIZE = 128\n",
        "N_HIDDEN = 128\n",
        "NB_CLASSES = 10\n",
        "VERBOSE = 1\n",
        "VALIDATION_SPLIT = 0.2\n",
        "\n",
        "(x_train, y_train), (x_test, y_test) = keras.datasets.mnist.load_data()\n",
        "\n",
        "RESHAPED = x_train.shape[1] * x_train.shape[2] \n",
        "\n",
        "x_train = x_train.reshape(x_train.shape[0], RESHAPED)\n",
        "x_test = x_test.reshape(x_test.shape[0], RESHAPED)\n",
        "\n",
        "x_train = x_train.astype(\"float32\")\n",
        "x_test = x_test.astype(\"float32\")\n",
        "\n",
        "x_train /= 255.0\n",
        "x_test /= 255.0\n",
        "\n",
        "y_train = tf.keras.utils.to_categorical(y_train, NB_CLASSES)\n",
        "y_test = tf.keras.utils.to_categorical(y_test, NB_CLASSES)\n",
        "\n",
        "\n",
        "model = keras.Sequential()\n",
        "\n",
        "model.add(keras.layers.Dense(N_HIDDEN, input_shape=(RESHAPED, ), \n",
        "                             activation=\"relu\",\n",
        "                             name=\"DenseLayer1\"))\n",
        "\n",
        "model.add(keras.layers.Dropout(DROPOUT))\n",
        "\n",
        "model.add(keras.layers.Dense(N_HIDDEN, \n",
        "                             activation=\"relu\",\n",
        "                             name=\"DenseLayer2\"))\n",
        "\n",
        "model.add(keras.layers.Dropout(DROPOUT))\n",
        "\n",
        "model.add(keras.layers.Dense(NB_CLASSES, \n",
        "                             activation=\"softmax\",\n",
        "                             name=\"DenseLayer3\"))\n",
        "\n",
        "model.compile(optimizer=\"RMSProp\", loss=\"categorical_crossentropy\", metrics=[\"accuracy\"])\n",
        "model.summary()"
      ],
      "execution_count": 10,
      "outputs": [
        {
          "output_type": "stream",
          "text": [
            "Model: \"sequential_2\"\n",
            "_________________________________________________________________\n",
            "Layer (type)                 Output Shape              Param #   \n",
            "=================================================================\n",
            "DenseLayer1 (Dense)          (None, 128)               100480    \n",
            "_________________________________________________________________\n",
            "dropout_3 (Dropout)          (None, 128)               0         \n",
            "_________________________________________________________________\n",
            "DenseLayer2 (Dense)          (None, 128)               16512     \n",
            "_________________________________________________________________\n",
            "dropout_4 (Dropout)          (None, 128)               0         \n",
            "_________________________________________________________________\n",
            "DenseLayer3 (Dense)          (None, 10)                1290      \n",
            "=================================================================\n",
            "Total params: 118,282\n",
            "Trainable params: 118,282\n",
            "Non-trainable params: 0\n",
            "_________________________________________________________________\n"
          ],
          "name": "stdout"
        }
      ]
    },
    {
      "cell_type": "code",
      "metadata": {
        "id": "0gj5C3N9t0Ls",
        "colab_type": "code",
        "colab": {}
      },
      "source": [
        "model.fit(x_train, y_train, batch_size=BATCH_SIZE, epochs=EPOCHS, \n",
        "          verbose=VERBOSE, validation_split=VALIDATION_SPLIT)"
      ],
      "execution_count": null,
      "outputs": []
    },
    {
      "cell_type": "code",
      "metadata": {
        "id": "f_MT7mXBt3e3",
        "colab_type": "code",
        "colab": {
          "base_uri": "https://localhost:8080/",
          "height": 50
        },
        "outputId": "d5382f58-29b8-4e69-aa52-3e9fd9a0a91a"
      },
      "source": [
        "test_loss, test_acc  = model.evaluate(x_test, y_test)\n",
        "print(f\"Test Accuracy: {round(test_acc*100, 4)}%\")"
      ],
      "execution_count": 12,
      "outputs": [
        {
          "output_type": "stream",
          "text": [
            "313/313 [==============================] - 1s 2ms/step - loss: 0.2821 - accuracy: 0.9784\n",
            "Test Accuracy: 97.84%\n"
          ],
          "name": "stdout"
        }
      ]
    },
    {
      "cell_type": "markdown",
      "metadata": {
        "id": "iozrBsvzvCMd",
        "colab_type": "text"
      },
      "source": [
        "<h1>Adam</h1>"
      ]
    },
    {
      "cell_type": "code",
      "metadata": {
        "id": "Tf1981XUvFBO",
        "colab_type": "code",
        "colab": {
          "base_uri": "https://localhost:8080/",
          "height": 316
        },
        "outputId": "1d054c3c-e934-4a2c-d90a-51cdff50656b"
      },
      "source": [
        "import tensorflow as tf \n",
        "import numpy as np \n",
        "from tensorflow import keras\n",
        "\n",
        "EPOCHS = 200\n",
        "BATCH_SIZE = 128\n",
        "N_HIDDEN = 128\n",
        "NB_CLASSES = 10\n",
        "VERBOSE = 1\n",
        "VALIDATION_SPLIT = 0.2\n",
        "\n",
        "(x_train, y_train), (x_test, y_test) = keras.datasets.mnist.load_data()\n",
        "\n",
        "RESHAPED = x_train.shape[1] * x_train.shape[2] \n",
        "\n",
        "x_train = x_train.reshape(x_train.shape[0], RESHAPED)\n",
        "x_test = x_test.reshape(x_test.shape[0], RESHAPED)\n",
        "\n",
        "x_train = x_train.astype(\"float32\")\n",
        "x_test = x_test.astype(\"float32\")\n",
        "\n",
        "x_train /= 255.0\n",
        "x_test /= 255.0\n",
        "\n",
        "y_train = tf.keras.utils.to_categorical(y_train, NB_CLASSES)\n",
        "y_test = tf.keras.utils.to_categorical(y_test, NB_CLASSES)\n",
        "\n",
        "\n",
        "model = keras.Sequential()\n",
        "\n",
        "model.add(keras.layers.Dense(N_HIDDEN, input_shape=(RESHAPED, ), \n",
        "                             activation=\"relu\",\n",
        "                             name=\"DenseLayer1\"))\n",
        "\n",
        "model.add(keras.layers.Dropout(DROPOUT))\n",
        "\n",
        "model.add(keras.layers.Dense(N_HIDDEN, \n",
        "                             activation=\"relu\",\n",
        "                             name=\"DenseLayer2\"))\n",
        "\n",
        "model.add(keras.layers.Dropout(DROPOUT))\n",
        "\n",
        "model.add(keras.layers.Dense(NB_CLASSES, \n",
        "                             activation=\"softmax\",\n",
        "                             name=\"DenseLayer3\"))\n",
        "\n",
        "model.compile(optimizer=\"Adam\", loss=\"categorical_crossentropy\", metrics=[\"accuracy\"])\n",
        "model.summary()"
      ],
      "execution_count": 13,
      "outputs": [
        {
          "output_type": "stream",
          "text": [
            "Model: \"sequential_3\"\n",
            "_________________________________________________________________\n",
            "Layer (type)                 Output Shape              Param #   \n",
            "=================================================================\n",
            "DenseLayer1 (Dense)          (None, 128)               100480    \n",
            "_________________________________________________________________\n",
            "dropout_5 (Dropout)          (None, 128)               0         \n",
            "_________________________________________________________________\n",
            "DenseLayer2 (Dense)          (None, 128)               16512     \n",
            "_________________________________________________________________\n",
            "dropout_6 (Dropout)          (None, 128)               0         \n",
            "_________________________________________________________________\n",
            "DenseLayer3 (Dense)          (None, 10)                1290      \n",
            "=================================================================\n",
            "Total params: 118,282\n",
            "Trainable params: 118,282\n",
            "Non-trainable params: 0\n",
            "_________________________________________________________________\n"
          ],
          "name": "stdout"
        }
      ]
    },
    {
      "cell_type": "code",
      "metadata": {
        "id": "_1hcp7MJvLpO",
        "colab_type": "code",
        "colab": {}
      },
      "source": [
        "model.fit(x_train, y_train, batch_size=BATCH_SIZE, epochs=EPOCHS, \n",
        "          verbose=VERBOSE, validation_split=VALIDATION_SPLIT)"
      ],
      "execution_count": null,
      "outputs": []
    },
    {
      "cell_type": "code",
      "metadata": {
        "id": "2abldqI3vOHt",
        "colab_type": "code",
        "colab": {
          "base_uri": "https://localhost:8080/",
          "height": 50
        },
        "outputId": "fa1a649d-a262-4439-8756-95a4ab514ea7"
      },
      "source": [
        "test_loss, test_acc  = model.evaluate(x_test, y_test)\n",
        "print(f\"Test Accuracy: {round(test_acc*100, 4)}%\")"
      ],
      "execution_count": 15,
      "outputs": [
        {
          "output_type": "stream",
          "text": [
            "313/313 [==============================] - 1s 2ms/step - loss: 0.1323 - accuracy: 0.9809\n",
            "Test Accuracy: 98.09%\n"
          ],
          "name": "stdout"
        }
      ]
    },
    {
      "cell_type": "markdown",
      "metadata": {
        "id": "WbbmlE2R5iqL",
        "colab_type": "text"
      },
      "source": [
        "<h1>Sentiment analysis</h1>"
      ]
    },
    {
      "cell_type": "code",
      "metadata": {
        "id": "yI2R1BYd5n19",
        "colab_type": "code",
        "colab": {}
      },
      "source": [
        "import tensorflow as tf\n",
        "import tensorflow_datasets as tfds\n",
        "from tensorflow.keras import  datasets, preprocessing, models, layers"
      ],
      "execution_count": 17,
      "outputs": []
    },
    {
      "cell_type": "code",
      "metadata": {
        "id": "4KqlhUft6Lb6",
        "colab_type": "code",
        "colab": {}
      },
      "source": [
        "max_len = 200\n",
        "n_words = 10000\n",
        "dim_embedding = 256\n",
        "EPOCHS = 20\n",
        "BATCH_SIZE = 500"
      ],
      "execution_count": 18,
      "outputs": []
    },
    {
      "cell_type": "code",
      "metadata": {
        "id": "TFJsv8OF6t-p",
        "colab_type": "code",
        "colab": {}
      },
      "source": [
        "def load_data():\n",
        "    (X_train, y_train), (X_test, y_test) = datasets.imdb.load_data(num_words=n_words)\n",
        "    X_train = preprocessing.sequence.pad_sequences(X_train, maxlen=max_len)\n",
        "    X_test = preprocessing.sequence.pad_sequences(X_test, maxlen=max_len)\n",
        "    return (X_train, y_train), (X_test, y_test)"
      ],
      "execution_count": 22,
      "outputs": []
    },
    {
      "cell_type": "code",
      "metadata": {
        "id": "VSdUw3OK-ZmH",
        "colab_type": "code",
        "colab": {}
      },
      "source": [
        "def build_model():\n",
        "    model = models.Sequential()\n",
        "    model.add(layers.Embedding(n_words, dim_embedding, input_length=max_len))\n",
        "    model.add(layers.Dropout(0.3))\n",
        "    model.add(layers.GlobalMaxPooling1D())\n",
        "    model.add(layers.Dense(128, activation=\"relu\"))\n",
        "    model.add(layers.Dropout(0.3))\n",
        "    model.add(layers.Dense(1, activation=\"sigmoid\"))\n",
        "    return model"
      ],
      "execution_count": 25,
      "outputs": []
    },
    {
      "cell_type": "code",
      "metadata": {
        "id": "eDADIw3MACdz",
        "colab_type": "code",
        "colab": {
          "base_uri": "https://localhost:8080/",
          "height": 350
        },
        "outputId": "5bce884d-d505-4c89-c0b8-646b8fb64928"
      },
      "source": [
        "(X_train, y_train), (X_test, y_test) = load_data()\n",
        "model = build_model()\n",
        "model.compile(optimizer=\"Adam\", loss=\"binary_crossentropy\", metrics=[\"accuracy\"])\n",
        "model.summary()"
      ],
      "execution_count": 26,
      "outputs": [
        {
          "output_type": "stream",
          "text": [
            "Model: \"sequential_5\"\n",
            "_________________________________________________________________\n",
            "Layer (type)                 Output Shape              Param #   \n",
            "=================================================================\n",
            "embedding_1 (Embedding)      (None, 200, 256)          2560000   \n",
            "_________________________________________________________________\n",
            "dropout_9 (Dropout)          (None, 200, 256)          0         \n",
            "_________________________________________________________________\n",
            "global_max_pooling1d_1 (Glob (None, 256)               0         \n",
            "_________________________________________________________________\n",
            "dense_1 (Dense)              (None, 128)               32896     \n",
            "_________________________________________________________________\n",
            "dropout_10 (Dropout)         (None, 128)               0         \n",
            "_________________________________________________________________\n",
            "dense_2 (Dense)              (None, 1)                 129       \n",
            "=================================================================\n",
            "Total params: 2,593,025\n",
            "Trainable params: 2,593,025\n",
            "Non-trainable params: 0\n",
            "_________________________________________________________________\n"
          ],
          "name": "stdout"
        }
      ]
    },
    {
      "cell_type": "code",
      "metadata": {
        "id": "5pCSJ8YmAfYa",
        "colab_type": "code",
        "colab": {
          "base_uri": "https://localhost:8080/",
          "height": 683
        },
        "outputId": "a98aa168-0d0e-4019-b0c7-3f6688bb1123"
      },
      "source": [
        "score = model.fit(X_train, y_train, batch_size=BATCH_SIZE, epochs=EPOCHS, \n",
        "                  validation_data=(X_test, y_test))"
      ],
      "execution_count": 27,
      "outputs": [
        {
          "output_type": "stream",
          "text": [
            "Epoch 1/20\n",
            "50/50 [==============================] - 5s 110ms/step - loss: 0.6697 - accuracy: 0.6621 - val_loss: 0.6215 - val_accuracy: 0.8418\n",
            "Epoch 2/20\n",
            "50/50 [==============================] - 5s 106ms/step - loss: 0.4311 - accuracy: 0.8547 - val_loss: 0.3421 - val_accuracy: 0.8648\n",
            "Epoch 3/20\n",
            "50/50 [==============================] - 5s 106ms/step - loss: 0.2619 - accuracy: 0.8918 - val_loss: 0.2975 - val_accuracy: 0.8783\n",
            "Epoch 4/20\n",
            "50/50 [==============================] - 5s 104ms/step - loss: 0.2022 - accuracy: 0.9196 - val_loss: 0.2879 - val_accuracy: 0.8804\n",
            "Epoch 5/20\n",
            "50/50 [==============================] - 5s 102ms/step - loss: 0.1575 - accuracy: 0.9438 - val_loss: 0.2876 - val_accuracy: 0.8780\n",
            "Epoch 6/20\n",
            "50/50 [==============================] - 5s 101ms/step - loss: 0.1184 - accuracy: 0.9613 - val_loss: 0.2954 - val_accuracy: 0.8744\n",
            "Epoch 7/20\n",
            "50/50 [==============================] - 5s 105ms/step - loss: 0.0892 - accuracy: 0.9722 - val_loss: 0.3075 - val_accuracy: 0.8712\n",
            "Epoch 8/20\n",
            "50/50 [==============================] - 5s 103ms/step - loss: 0.0655 - accuracy: 0.9813 - val_loss: 0.3252 - val_accuracy: 0.8662\n",
            "Epoch 9/20\n",
            "50/50 [==============================] - 5s 101ms/step - loss: 0.0467 - accuracy: 0.9888 - val_loss: 0.3437 - val_accuracy: 0.8620\n",
            "Epoch 10/20\n",
            "50/50 [==============================] - 5s 102ms/step - loss: 0.0347 - accuracy: 0.9927 - val_loss: 0.3689 - val_accuracy: 0.8574\n",
            "Epoch 11/20\n",
            "50/50 [==============================] - 5s 104ms/step - loss: 0.0248 - accuracy: 0.9950 - val_loss: 0.3771 - val_accuracy: 0.8603\n",
            "Epoch 12/20\n",
            "50/50 [==============================] - 5s 102ms/step - loss: 0.0190 - accuracy: 0.9969 - val_loss: 0.3969 - val_accuracy: 0.8570\n",
            "Epoch 13/20\n",
            "50/50 [==============================] - 5s 102ms/step - loss: 0.0149 - accuracy: 0.9976 - val_loss: 0.4139 - val_accuracy: 0.8560\n",
            "Epoch 14/20\n",
            "50/50 [==============================] - 5s 103ms/step - loss: 0.0111 - accuracy: 0.9985 - val_loss: 0.4259 - val_accuracy: 0.8564\n",
            "Epoch 15/20\n",
            "50/50 [==============================] - 5s 103ms/step - loss: 0.0100 - accuracy: 0.9986 - val_loss: 0.4419 - val_accuracy: 0.8540\n",
            "Epoch 16/20\n",
            "50/50 [==============================] - 5s 102ms/step - loss: 0.0078 - accuracy: 0.9991 - val_loss: 0.4556 - val_accuracy: 0.8544\n",
            "Epoch 17/20\n",
            "50/50 [==============================] - 5s 104ms/step - loss: 0.0066 - accuracy: 0.9989 - val_loss: 0.4689 - val_accuracy: 0.8540\n",
            "Epoch 18/20\n",
            "50/50 [==============================] - 5s 106ms/step - loss: 0.0060 - accuracy: 0.9990 - val_loss: 0.4802 - val_accuracy: 0.8528\n",
            "Epoch 19/20\n",
            "50/50 [==============================] - 5s 105ms/step - loss: 0.0048 - accuracy: 0.9992 - val_loss: 0.4948 - val_accuracy: 0.8518\n",
            "Epoch 20/20\n",
            "50/50 [==============================] - 5s 104ms/step - loss: 0.0045 - accuracy: 0.9995 - val_loss: 0.5037 - val_accuracy: 0.8518\n"
          ],
          "name": "stdout"
        }
      ]
    },
    {
      "cell_type": "code",
      "metadata": {
        "id": "QElKiDMSA9uc",
        "colab_type": "code",
        "colab": {
          "base_uri": "https://localhost:8080/",
          "height": 66
        },
        "outputId": "e92bc11d-cfdb-4eca-bfe6-9b46b34b2643"
      },
      "source": [
        "score = model.evaluate(X_test, y_test, batch_size=BATCH_SIZE)\n",
        "print(f\"Test score: {score[0]}\")\n",
        "print(f\"Test accuracy: {score[1]}\")"
      ],
      "execution_count": 30,
      "outputs": [
        {
          "output_type": "stream",
          "text": [
            "50/50 [==============================] - 1s 26ms/step - loss: 0.5037 - accuracy: 0.8518\n",
            "Test score: 0.5036986470222473\n",
            "Test accuracy: 0.8518400192260742\n"
          ],
          "name": "stdout"
        }
      ]
    }
  ]
}